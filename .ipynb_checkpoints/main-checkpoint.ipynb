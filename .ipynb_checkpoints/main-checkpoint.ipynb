{
 "cells": [
  {
   "cell_type": "code",
   "execution_count": 87,
   "id": "6a5169cb-f4e4-4ac4-857c-61b5d3e9087a",
   "metadata": {},
   "outputs": [],
   "source": [
    "import numpy as np\n",
    "import pandas as pd\n",
    "import matplotlib.pyplot as plt\n",
    "import seaborn as sns"
   ]
  },
  {
   "cell_type": "code",
   "execution_count": 88,
   "id": "29d1852b-233c-47ea-9e90-91641a3d6e5c",
   "metadata": {},
   "outputs": [],
   "source": [
    "df=pd.read_csv(\"C:/Users/Arjun Pandit/Desktop/data_set/loan_dataset.csv\")"
   ]
  },
  {
   "cell_type": "code",
   "execution_count": 89,
   "id": "2417475f-ca1c-467f-9463-95ec58205d79",
   "metadata": {},
   "outputs": [
    {
     "data": {
      "text/html": [
       "<div>\n",
       "<style scoped>\n",
       "    .dataframe tbody tr th:only-of-type {\n",
       "        vertical-align: middle;\n",
       "    }\n",
       "\n",
       "    .dataframe tbody tr th {\n",
       "        vertical-align: top;\n",
       "    }\n",
       "\n",
       "    .dataframe thead th {\n",
       "        text-align: right;\n",
       "    }\n",
       "</style>\n",
       "<table border=\"1\" class=\"dataframe\">\n",
       "  <thead>\n",
       "    <tr style=\"text-align: right;\">\n",
       "      <th></th>\n",
       "      <th>loan_id</th>\n",
       "      <th>no_of_dependents</th>\n",
       "      <th>education</th>\n",
       "      <th>self_employed</th>\n",
       "      <th>income_annum</th>\n",
       "      <th>loan_amount</th>\n",
       "      <th>loan_term</th>\n",
       "      <th>cibil_score</th>\n",
       "      <th>residential_assets_value</th>\n",
       "      <th>commercial_assets_value</th>\n",
       "      <th>luxury_assets_value</th>\n",
       "      <th>bank_asset_value</th>\n",
       "      <th>loan_status</th>\n",
       "    </tr>\n",
       "  </thead>\n",
       "  <tbody>\n",
       "    <tr>\n",
       "      <th>0</th>\n",
       "      <td>1</td>\n",
       "      <td>2</td>\n",
       "      <td>Graduate</td>\n",
       "      <td>No</td>\n",
       "      <td>9600000</td>\n",
       "      <td>29900000</td>\n",
       "      <td>12</td>\n",
       "      <td>778</td>\n",
       "      <td>2400000</td>\n",
       "      <td>17600000</td>\n",
       "      <td>22700000</td>\n",
       "      <td>8000000</td>\n",
       "      <td>Approved</td>\n",
       "    </tr>\n",
       "    <tr>\n",
       "      <th>1</th>\n",
       "      <td>2</td>\n",
       "      <td>0</td>\n",
       "      <td>Not Graduate</td>\n",
       "      <td>Yes</td>\n",
       "      <td>4100000</td>\n",
       "      <td>12200000</td>\n",
       "      <td>8</td>\n",
       "      <td>417</td>\n",
       "      <td>2700000</td>\n",
       "      <td>2200000</td>\n",
       "      <td>8800000</td>\n",
       "      <td>3300000</td>\n",
       "      <td>Rejected</td>\n",
       "    </tr>\n",
       "    <tr>\n",
       "      <th>2</th>\n",
       "      <td>3</td>\n",
       "      <td>3</td>\n",
       "      <td>Graduate</td>\n",
       "      <td>No</td>\n",
       "      <td>9100000</td>\n",
       "      <td>29700000</td>\n",
       "      <td>20</td>\n",
       "      <td>506</td>\n",
       "      <td>7100000</td>\n",
       "      <td>4500000</td>\n",
       "      <td>33300000</td>\n",
       "      <td>12800000</td>\n",
       "      <td>Rejected</td>\n",
       "    </tr>\n",
       "    <tr>\n",
       "      <th>3</th>\n",
       "      <td>4</td>\n",
       "      <td>3</td>\n",
       "      <td>Graduate</td>\n",
       "      <td>No</td>\n",
       "      <td>8200000</td>\n",
       "      <td>30700000</td>\n",
       "      <td>8</td>\n",
       "      <td>467</td>\n",
       "      <td>18200000</td>\n",
       "      <td>3300000</td>\n",
       "      <td>23300000</td>\n",
       "      <td>7900000</td>\n",
       "      <td>Rejected</td>\n",
       "    </tr>\n",
       "    <tr>\n",
       "      <th>4</th>\n",
       "      <td>5</td>\n",
       "      <td>5</td>\n",
       "      <td>Not Graduate</td>\n",
       "      <td>Yes</td>\n",
       "      <td>9800000</td>\n",
       "      <td>24200000</td>\n",
       "      <td>20</td>\n",
       "      <td>382</td>\n",
       "      <td>12400000</td>\n",
       "      <td>8200000</td>\n",
       "      <td>29400000</td>\n",
       "      <td>5000000</td>\n",
       "      <td>Rejected</td>\n",
       "    </tr>\n",
       "  </tbody>\n",
       "</table>\n",
       "</div>"
      ],
      "text/plain": [
       "   loan_id  no_of_dependents      education self_employed  income_annum  \\\n",
       "0        1                 2       Graduate            No       9600000   \n",
       "1        2                 0   Not Graduate           Yes       4100000   \n",
       "2        3                 3       Graduate            No       9100000   \n",
       "3        4                 3       Graduate            No       8200000   \n",
       "4        5                 5   Not Graduate           Yes       9800000   \n",
       "\n",
       "   loan_amount  loan_term  cibil_score  residential_assets_value  \\\n",
       "0     29900000         12          778                   2400000   \n",
       "1     12200000          8          417                   2700000   \n",
       "2     29700000         20          506                   7100000   \n",
       "3     30700000          8          467                  18200000   \n",
       "4     24200000         20          382                  12400000   \n",
       "\n",
       "   commercial_assets_value  luxury_assets_value  bank_asset_value loan_status  \n",
       "0                 17600000             22700000           8000000    Approved  \n",
       "1                  2200000              8800000           3300000    Rejected  \n",
       "2                  4500000             33300000          12800000    Rejected  \n",
       "3                  3300000             23300000           7900000    Rejected  \n",
       "4                  8200000             29400000           5000000    Rejected  "
      ]
     },
     "execution_count": 89,
     "metadata": {},
     "output_type": "execute_result"
    }
   ],
   "source": [
    "df.head()"
   ]
  },
  {
   "cell_type": "code",
   "execution_count": 90,
   "id": "6ee92558-1a73-4f56-b573-462cba8162c4",
   "metadata": {},
   "outputs": [
    {
     "name": "stdout",
     "output_type": "stream",
     "text": [
      "<class 'pandas.core.frame.DataFrame'>\n",
      "RangeIndex: 4269 entries, 0 to 4268\n",
      "Data columns (total 13 columns):\n",
      " #   Column                    Non-Null Count  Dtype \n",
      "---  ------                    --------------  ----- \n",
      " 0   loan_id                   4269 non-null   int64 \n",
      " 1   no_of_dependents          4269 non-null   int64 \n",
      " 2   education                 4269 non-null   object\n",
      " 3   self_employed             4269 non-null   object\n",
      " 4   income_annum              4269 non-null   int64 \n",
      " 5   loan_amount               4269 non-null   int64 \n",
      " 6   loan_term                 4269 non-null   int64 \n",
      " 7   cibil_score               4269 non-null   int64 \n",
      " 8   residential_assets_value  4269 non-null   int64 \n",
      " 9   commercial_assets_value   4269 non-null   int64 \n",
      " 10  luxury_assets_value       4269 non-null   int64 \n",
      " 11  bank_asset_value          4269 non-null   int64 \n",
      " 12  loan_status               4269 non-null   object\n",
      "dtypes: int64(10), object(3)\n",
      "memory usage: 433.7+ KB\n"
     ]
    }
   ],
   "source": [
    "df.info()"
   ]
  },
  {
   "cell_type": "code",
   "execution_count": 91,
   "id": "c180b729-e364-4705-9f71-f8df0b6305e3",
   "metadata": {},
   "outputs": [
    {
     "data": {
      "text/plain": [
       "loan_id                     0\n",
       "no_of_dependents            0\n",
       "education                   0\n",
       "self_employed               0\n",
       "income_annum                0\n",
       "loan_amount                 0\n",
       "loan_term                   0\n",
       "cibil_score                 0\n",
       "residential_assets_value    0\n",
       "commercial_assets_value     0\n",
       "luxury_assets_value         0\n",
       "bank_asset_value            0\n",
       "loan_status                 0\n",
       "dtype: int64"
      ]
     },
     "execution_count": 91,
     "metadata": {},
     "output_type": "execute_result"
    }
   ],
   "source": [
    "df.isna().sum()"
   ]
  },
  {
   "cell_type": "code",
   "execution_count": 92,
   "id": "1e16b245-64eb-4040-b27e-c68c965cfc11",
   "metadata": {},
   "outputs": [
    {
     "data": {
      "text/plain": [
       "np.int64(0)"
      ]
     },
     "execution_count": 92,
     "metadata": {},
     "output_type": "execute_result"
    }
   ],
   "source": [
    "df.duplicated().sum()"
   ]
  },
  {
   "cell_type": "code",
   "execution_count": 93,
   "id": "65437e94-abee-491b-9b16-aff17bde734e",
   "metadata": {},
   "outputs": [
    {
     "data": {
      "text/html": [
       "<div>\n",
       "<style scoped>\n",
       "    .dataframe tbody tr th:only-of-type {\n",
       "        vertical-align: middle;\n",
       "    }\n",
       "\n",
       "    .dataframe tbody tr th {\n",
       "        vertical-align: top;\n",
       "    }\n",
       "\n",
       "    .dataframe thead th {\n",
       "        text-align: right;\n",
       "    }\n",
       "</style>\n",
       "<table border=\"1\" class=\"dataframe\">\n",
       "  <thead>\n",
       "    <tr style=\"text-align: right;\">\n",
       "      <th></th>\n",
       "      <th>loan_id</th>\n",
       "      <th>no_of_dependents</th>\n",
       "      <th>income_annum</th>\n",
       "      <th>loan_amount</th>\n",
       "      <th>loan_term</th>\n",
       "      <th>cibil_score</th>\n",
       "      <th>residential_assets_value</th>\n",
       "      <th>commercial_assets_value</th>\n",
       "      <th>luxury_assets_value</th>\n",
       "      <th>bank_asset_value</th>\n",
       "    </tr>\n",
       "  </thead>\n",
       "  <tbody>\n",
       "    <tr>\n",
       "      <th>count</th>\n",
       "      <td>4269.000000</td>\n",
       "      <td>4269.000000</td>\n",
       "      <td>4.269000e+03</td>\n",
       "      <td>4.269000e+03</td>\n",
       "      <td>4269.000000</td>\n",
       "      <td>4269.000000</td>\n",
       "      <td>4.269000e+03</td>\n",
       "      <td>4.269000e+03</td>\n",
       "      <td>4.269000e+03</td>\n",
       "      <td>4.269000e+03</td>\n",
       "    </tr>\n",
       "    <tr>\n",
       "      <th>mean</th>\n",
       "      <td>2135.000000</td>\n",
       "      <td>2.498712</td>\n",
       "      <td>5.059124e+06</td>\n",
       "      <td>1.513345e+07</td>\n",
       "      <td>10.900445</td>\n",
       "      <td>599.936051</td>\n",
       "      <td>7.472617e+06</td>\n",
       "      <td>4.973155e+06</td>\n",
       "      <td>1.512631e+07</td>\n",
       "      <td>4.976692e+06</td>\n",
       "    </tr>\n",
       "    <tr>\n",
       "      <th>std</th>\n",
       "      <td>1232.498479</td>\n",
       "      <td>1.695910</td>\n",
       "      <td>2.806840e+06</td>\n",
       "      <td>9.043363e+06</td>\n",
       "      <td>5.709187</td>\n",
       "      <td>172.430401</td>\n",
       "      <td>6.503637e+06</td>\n",
       "      <td>4.388966e+06</td>\n",
       "      <td>9.103754e+06</td>\n",
       "      <td>3.250185e+06</td>\n",
       "    </tr>\n",
       "    <tr>\n",
       "      <th>min</th>\n",
       "      <td>1.000000</td>\n",
       "      <td>0.000000</td>\n",
       "      <td>2.000000e+05</td>\n",
       "      <td>3.000000e+05</td>\n",
       "      <td>2.000000</td>\n",
       "      <td>300.000000</td>\n",
       "      <td>-1.000000e+05</td>\n",
       "      <td>0.000000e+00</td>\n",
       "      <td>3.000000e+05</td>\n",
       "      <td>0.000000e+00</td>\n",
       "    </tr>\n",
       "    <tr>\n",
       "      <th>25%</th>\n",
       "      <td>1068.000000</td>\n",
       "      <td>1.000000</td>\n",
       "      <td>2.700000e+06</td>\n",
       "      <td>7.700000e+06</td>\n",
       "      <td>6.000000</td>\n",
       "      <td>453.000000</td>\n",
       "      <td>2.200000e+06</td>\n",
       "      <td>1.300000e+06</td>\n",
       "      <td>7.500000e+06</td>\n",
       "      <td>2.300000e+06</td>\n",
       "    </tr>\n",
       "    <tr>\n",
       "      <th>50%</th>\n",
       "      <td>2135.000000</td>\n",
       "      <td>3.000000</td>\n",
       "      <td>5.100000e+06</td>\n",
       "      <td>1.450000e+07</td>\n",
       "      <td>10.000000</td>\n",
       "      <td>600.000000</td>\n",
       "      <td>5.600000e+06</td>\n",
       "      <td>3.700000e+06</td>\n",
       "      <td>1.460000e+07</td>\n",
       "      <td>4.600000e+06</td>\n",
       "    </tr>\n",
       "    <tr>\n",
       "      <th>75%</th>\n",
       "      <td>3202.000000</td>\n",
       "      <td>4.000000</td>\n",
       "      <td>7.500000e+06</td>\n",
       "      <td>2.150000e+07</td>\n",
       "      <td>16.000000</td>\n",
       "      <td>748.000000</td>\n",
       "      <td>1.130000e+07</td>\n",
       "      <td>7.600000e+06</td>\n",
       "      <td>2.170000e+07</td>\n",
       "      <td>7.100000e+06</td>\n",
       "    </tr>\n",
       "    <tr>\n",
       "      <th>max</th>\n",
       "      <td>4269.000000</td>\n",
       "      <td>5.000000</td>\n",
       "      <td>9.900000e+06</td>\n",
       "      <td>3.950000e+07</td>\n",
       "      <td>20.000000</td>\n",
       "      <td>900.000000</td>\n",
       "      <td>2.910000e+07</td>\n",
       "      <td>1.940000e+07</td>\n",
       "      <td>3.920000e+07</td>\n",
       "      <td>1.470000e+07</td>\n",
       "    </tr>\n",
       "  </tbody>\n",
       "</table>\n",
       "</div>"
      ],
      "text/plain": [
       "           loan_id  no_of_dependents  income_annum   loan_amount    loan_term  \\\n",
       "count  4269.000000       4269.000000  4.269000e+03  4.269000e+03  4269.000000   \n",
       "mean   2135.000000          2.498712  5.059124e+06  1.513345e+07    10.900445   \n",
       "std    1232.498479          1.695910  2.806840e+06  9.043363e+06     5.709187   \n",
       "min       1.000000          0.000000  2.000000e+05  3.000000e+05     2.000000   \n",
       "25%    1068.000000          1.000000  2.700000e+06  7.700000e+06     6.000000   \n",
       "50%    2135.000000          3.000000  5.100000e+06  1.450000e+07    10.000000   \n",
       "75%    3202.000000          4.000000  7.500000e+06  2.150000e+07    16.000000   \n",
       "max    4269.000000          5.000000  9.900000e+06  3.950000e+07    20.000000   \n",
       "\n",
       "       cibil_score  residential_assets_value  commercial_assets_value  \\\n",
       "count  4269.000000              4.269000e+03             4.269000e+03   \n",
       "mean    599.936051              7.472617e+06             4.973155e+06   \n",
       "std     172.430401              6.503637e+06             4.388966e+06   \n",
       "min     300.000000             -1.000000e+05             0.000000e+00   \n",
       "25%     453.000000              2.200000e+06             1.300000e+06   \n",
       "50%     600.000000              5.600000e+06             3.700000e+06   \n",
       "75%     748.000000              1.130000e+07             7.600000e+06   \n",
       "max     900.000000              2.910000e+07             1.940000e+07   \n",
       "\n",
       "       luxury_assets_value  bank_asset_value  \n",
       "count         4.269000e+03      4.269000e+03  \n",
       "mean          1.512631e+07      4.976692e+06  \n",
       "std           9.103754e+06      3.250185e+06  \n",
       "min           3.000000e+05      0.000000e+00  \n",
       "25%           7.500000e+06      2.300000e+06  \n",
       "50%           1.460000e+07      4.600000e+06  \n",
       "75%           2.170000e+07      7.100000e+06  \n",
       "max           3.920000e+07      1.470000e+07  "
      ]
     },
     "execution_count": 93,
     "metadata": {},
     "output_type": "execute_result"
    }
   ],
   "source": [
    "df.describe()"
   ]
  },
  {
   "cell_type": "code",
   "execution_count": 94,
   "id": "9d54edc8-d8ce-4c76-a407-62c5a6e63fa3",
   "metadata": {},
   "outputs": [
    {
     "name": "stdout",
     "output_type": "stream",
     "text": [
      "<class 'pandas.core.frame.DataFrame'>\n",
      "RangeIndex: 4269 entries, 0 to 4268\n",
      "Data columns (total 13 columns):\n",
      " #   Column                    Non-Null Count  Dtype \n",
      "---  ------                    --------------  ----- \n",
      " 0   loan_id                   4269 non-null   int64 \n",
      " 1   no_of_dependents          4269 non-null   int64 \n",
      " 2   education                 4269 non-null   object\n",
      " 3   self_employed             4269 non-null   object\n",
      " 4   income_annum              4269 non-null   int64 \n",
      " 5   loan_amount               4269 non-null   int64 \n",
      " 6   loan_term                 4269 non-null   int64 \n",
      " 7   cibil_score               4269 non-null   int64 \n",
      " 8   residential_assets_value  4269 non-null   int64 \n",
      " 9   commercial_assets_value   4269 non-null   int64 \n",
      " 10  luxury_assets_value       4269 non-null   int64 \n",
      " 11  bank_asset_value          4269 non-null   int64 \n",
      " 12  loan_status               4269 non-null   object\n",
      "dtypes: int64(10), object(3)\n",
      "memory usage: 433.7+ KB\n"
     ]
    }
   ],
   "source": [
    "df.info()"
   ]
  },
  {
   "cell_type": "code",
   "execution_count": 95,
   "id": "3d075a41-3f7b-4bc3-af1b-2a6f52191ca5",
   "metadata": {},
   "outputs": [
    {
     "data": {
      "text/plain": [
       "education\n",
       "Graduate        2144\n",
       "Not Graduate    2125\n",
       "Name: count, dtype: int64"
      ]
     },
     "execution_count": 95,
     "metadata": {},
     "output_type": "execute_result"
    }
   ],
   "source": [
    "df['education'].value_counts()"
   ]
  },
  {
   "cell_type": "code",
   "execution_count": 96,
   "id": "832992a1-bce6-4bb5-b6fd-e28c36c1d713",
   "metadata": {},
   "outputs": [],
   "source": [
    "df.columns = df.columns.str.strip()"
   ]
  },
  {
   "cell_type": "code",
   "execution_count": 97,
   "id": "0085edea-bc53-418c-a4b4-74eaec578bcc",
   "metadata": {},
   "outputs": [
    {
     "data": {
      "text/html": [
       "<div>\n",
       "<style scoped>\n",
       "    .dataframe tbody tr th:only-of-type {\n",
       "        vertical-align: middle;\n",
       "    }\n",
       "\n",
       "    .dataframe tbody tr th {\n",
       "        vertical-align: top;\n",
       "    }\n",
       "\n",
       "    .dataframe thead th {\n",
       "        text-align: right;\n",
       "    }\n",
       "</style>\n",
       "<table border=\"1\" class=\"dataframe\">\n",
       "  <thead>\n",
       "    <tr style=\"text-align: right;\">\n",
       "      <th></th>\n",
       "      <th>loan_id</th>\n",
       "      <th>no_of_dependents</th>\n",
       "      <th>education</th>\n",
       "      <th>self_employed</th>\n",
       "      <th>income_annum</th>\n",
       "      <th>loan_amount</th>\n",
       "      <th>loan_term</th>\n",
       "      <th>cibil_score</th>\n",
       "      <th>residential_assets_value</th>\n",
       "      <th>commercial_assets_value</th>\n",
       "      <th>luxury_assets_value</th>\n",
       "      <th>bank_asset_value</th>\n",
       "      <th>loan_status</th>\n",
       "    </tr>\n",
       "  </thead>\n",
       "  <tbody>\n",
       "    <tr>\n",
       "      <th>236</th>\n",
       "      <td>237</td>\n",
       "      <td>3</td>\n",
       "      <td>Graduate</td>\n",
       "      <td>Yes</td>\n",
       "      <td>900000</td>\n",
       "      <td>3500000</td>\n",
       "      <td>4</td>\n",
       "      <td>770</td>\n",
       "      <td>700000</td>\n",
       "      <td>0</td>\n",
       "      <td>2000000</td>\n",
       "      <td>600000</td>\n",
       "      <td>Rejected</td>\n",
       "    </tr>\n",
       "    <tr>\n",
       "      <th>559</th>\n",
       "      <td>560</td>\n",
       "      <td>2</td>\n",
       "      <td>Graduate</td>\n",
       "      <td>Yes</td>\n",
       "      <td>200000</td>\n",
       "      <td>500000</td>\n",
       "      <td>6</td>\n",
       "      <td>885</td>\n",
       "      <td>-100000</td>\n",
       "      <td>0</td>\n",
       "      <td>300000</td>\n",
       "      <td>200000</td>\n",
       "      <td>Rejected</td>\n",
       "    </tr>\n",
       "    <tr>\n",
       "      <th>911</th>\n",
       "      <td>912</td>\n",
       "      <td>0</td>\n",
       "      <td>Graduate</td>\n",
       "      <td>Yes</td>\n",
       "      <td>1300000</td>\n",
       "      <td>4800000</td>\n",
       "      <td>4</td>\n",
       "      <td>835</td>\n",
       "      <td>500000</td>\n",
       "      <td>100000</td>\n",
       "      <td>3300000</td>\n",
       "      <td>800000</td>\n",
       "      <td>Rejected</td>\n",
       "    </tr>\n",
       "    <tr>\n",
       "      <th>1446</th>\n",
       "      <td>1447</td>\n",
       "      <td>1</td>\n",
       "      <td>Graduate</td>\n",
       "      <td>No</td>\n",
       "      <td>300000</td>\n",
       "      <td>1200000</td>\n",
       "      <td>18</td>\n",
       "      <td>747</td>\n",
       "      <td>100000</td>\n",
       "      <td>0</td>\n",
       "      <td>700000</td>\n",
       "      <td>200000</td>\n",
       "      <td>Rejected</td>\n",
       "    </tr>\n",
       "    <tr>\n",
       "      <th>3213</th>\n",
       "      <td>3214</td>\n",
       "      <td>1</td>\n",
       "      <td>Not Graduate</td>\n",
       "      <td>Yes</td>\n",
       "      <td>4300000</td>\n",
       "      <td>16300000</td>\n",
       "      <td>14</td>\n",
       "      <td>792</td>\n",
       "      <td>400000</td>\n",
       "      <td>400000</td>\n",
       "      <td>10200000</td>\n",
       "      <td>4000000</td>\n",
       "      <td>Rejected</td>\n",
       "    </tr>\n",
       "    <tr>\n",
       "      <th>3527</th>\n",
       "      <td>3528</td>\n",
       "      <td>0</td>\n",
       "      <td>Graduate</td>\n",
       "      <td>No</td>\n",
       "      <td>1800000</td>\n",
       "      <td>6900000</td>\n",
       "      <td>10</td>\n",
       "      <td>853</td>\n",
       "      <td>900000</td>\n",
       "      <td>400000</td>\n",
       "      <td>3700000</td>\n",
       "      <td>1700000</td>\n",
       "      <td>Rejected</td>\n",
       "    </tr>\n",
       "    <tr>\n",
       "      <th>4099</th>\n",
       "      <td>4100</td>\n",
       "      <td>3</td>\n",
       "      <td>Graduate</td>\n",
       "      <td>No</td>\n",
       "      <td>8700000</td>\n",
       "      <td>31100000</td>\n",
       "      <td>16</td>\n",
       "      <td>760</td>\n",
       "      <td>400000</td>\n",
       "      <td>1800000</td>\n",
       "      <td>19300000</td>\n",
       "      <td>4800000</td>\n",
       "      <td>Rejected</td>\n",
       "    </tr>\n",
       "  </tbody>\n",
       "</table>\n",
       "</div>"
      ],
      "text/plain": [
       "      loan_id  no_of_dependents      education self_employed  income_annum  \\\n",
       "236       237                 3       Graduate           Yes        900000   \n",
       "559       560                 2       Graduate           Yes        200000   \n",
       "911       912                 0       Graduate           Yes       1300000   \n",
       "1446     1447                 1       Graduate            No        300000   \n",
       "3213     3214                 1   Not Graduate           Yes       4300000   \n",
       "3527     3528                 0       Graduate            No       1800000   \n",
       "4099     4100                 3       Graduate            No       8700000   \n",
       "\n",
       "      loan_amount  loan_term  cibil_score  residential_assets_value  \\\n",
       "236       3500000          4          770                    700000   \n",
       "559        500000          6          885                   -100000   \n",
       "911       4800000          4          835                    500000   \n",
       "1446      1200000         18          747                    100000   \n",
       "3213     16300000         14          792                    400000   \n",
       "3527      6900000         10          853                    900000   \n",
       "4099     31100000         16          760                    400000   \n",
       "\n",
       "      commercial_assets_value  luxury_assets_value  bank_asset_value  \\\n",
       "236                         0              2000000            600000   \n",
       "559                         0               300000            200000   \n",
       "911                    100000              3300000            800000   \n",
       "1446                        0               700000            200000   \n",
       "3213                   400000             10200000           4000000   \n",
       "3527                   400000              3700000           1700000   \n",
       "4099                  1800000             19300000           4800000   \n",
       "\n",
       "     loan_status  \n",
       "236     Rejected  \n",
       "559     Rejected  \n",
       "911     Rejected  \n",
       "1446    Rejected  \n",
       "3213    Rejected  \n",
       "3527    Rejected  \n",
       "4099    Rejected  "
      ]
     },
     "execution_count": 97,
     "metadata": {},
     "output_type": "execute_result"
    }
   ],
   "source": [
    "df.loc[(df['cibil_score'] > 700) & (df['loan_status'] ==\" Rejected\")]"
   ]
  },
  {
   "cell_type": "code",
   "execution_count": 98,
   "id": "ab523ad5-1d2e-4347-882b-f1fe34a72ab8",
   "metadata": {},
   "outputs": [
    {
     "data": {
      "text/plain": [
       "loan_status\n",
       "Approved    2656\n",
       "Rejected    1613\n",
       "Name: count, dtype: int64"
      ]
     },
     "execution_count": 98,
     "metadata": {},
     "output_type": "execute_result"
    }
   ],
   "source": [
    "df['loan_status'].value_counts()"
   ]
  },
  {
   "cell_type": "code",
   "execution_count": 99,
   "id": "4519e036-b3a2-42be-b695-dd5ed7ff2ada",
   "metadata": {},
   "outputs": [
    {
     "data": {
      "text/plain": [
       "np.int64(200000)"
      ]
     },
     "execution_count": 99,
     "metadata": {},
     "output_type": "execute_result"
    }
   ],
   "source": [
    "df.income_annum.min()"
   ]
  },
  {
   "cell_type": "code",
   "execution_count": 100,
   "id": "909e44ac-3e34-4426-a607-8947f6cc0554",
   "metadata": {},
   "outputs": [
    {
     "data": {
      "text/plain": [
       "<Axes: ylabel='income_annum'>"
      ]
     },
     "execution_count": 100,
     "metadata": {},
     "output_type": "execute_result"
    },
    {
     "data": {
      "image/png": "[encoded data removed]",
      "text/plain": [
       "<Figure size 640x480 with 1 Axes>"
      ]
     },
     "metadata": {},
     "output_type": "display_data"
    }
   ],
   "source": [
    "sns.boxplot(df.income_annum)"
   ]
  },
  {
   "cell_type": "code",
   "execution_count": 101,
   "id": "cdfe5d7f-30cd-47a5-b15d-663425122053",
   "metadata": {},
   "outputs": [
    {
     "data": {
      "image/png": "[encoded data removed]",
      "text/plain": [
       "<Figure size 1000x600 with 1 Axes>"
      ]
     },
     "metadata": {},
     "output_type": "display_data"
    }
   ],
   "source": [
    "\n",
    "plt.figure(figsize=(10, 6))\n",
    "sns.histplot(df['income_annum'], kde=True, bins=30, color='skyblue')\n",
    "plt.title(\"Salary Distribution\")\n",
    "plt.xlabel(\"Salary\")\n",
    "plt.ylabel(\"Frequency\")\n",
    "plt.show()"
   ]
  },
  {
   "cell_type": "code",
   "execution_count": 102,
   "id": "288fcc3f-de03-4636-8730-42acdd635b0f",
   "metadata": {},
   "outputs": [
    {
     "name": "stdout",
     "output_type": "stream",
     "text": [
      "Skewness: -0.012814425096650109\n"
     ]
    }
   ],
   "source": [
    "print(\"Skewness:\", df['income_annum'].skew())"
   ]
  },
  {
   "cell_type": "code",
   "execution_count": 103,
   "id": "ef2d8ac6-3c1c-4a97-b2ff-2dbe53b17360",
   "metadata": {},
   "outputs": [
    {
     "data": {
      "text/plain": [
       "loan_status\n",
       "Approved    2656\n",
       "Rejected    1613\n",
       "Name: count, dtype: int64"
      ]
     },
     "execution_count": 103,
     "metadata": {},
     "output_type": "execute_result"
    }
   ],
   "source": [
    "df['loan_status'].value_counts()"
   ]
  },
  {
   "cell_type": "code",
   "execution_count": 104,
   "id": "c5a1c3d8-09c2-4f1b-99b1-a644457fcbef",
   "metadata": {},
   "outputs": [
    {
     "data": {
      "image/png": "[encoded data removed]",
      "text/plain": [
       "<Figure size 1000x600 with 4 Axes>"
      ]
     },
     "metadata": {},
     "output_type": "display_data"
    }
   ],
   "source": [
    "plt.figure(figsize=(10, 6))\n",
    "\n",
    "plt.subplot(2, 2, 1)\n",
    "sns.barplot(data=df, x=\"loan_status\", y=\"cibil_score\", color=\"skyblue\")\n",
    "\n",
    "plt.subplot(2, 2, 2)\n",
    "sns.barplot(data=df, x=\"loan_status\", y=\"no_of_dependents\", color=\"orange\")\n",
    "\n",
    "plt.subplot(2, 2, 3)\n",
    "sns.barplot(data=df, x=\"loan_status\", y=\"loan_amount\", color=\"lightgreen\")\n",
    "\n",
    "plt.subplot(2, 2, 4)\n",
    "sns.barplot(data=df, x=\"loan_status\", y=\"loan_term\", color=\"violet\")\n",
    "\n",
    "plt.tight_layout()\n",
    "plt.show()\n"
   ]
  },
  {
   "cell_type": "code",
   "execution_count": 105,
   "id": "07f45b6f-add2-4441-b6a6-649cd43f3b1c",
   "metadata": {},
   "outputs": [
    {
     "data": {
      "text/plain": [
       "Index(['loan_id', 'no_of_dependents', 'education', 'self_employed',\n",
       "       'income_annum', 'loan_amount', 'loan_term', 'cibil_score',\n",
       "       'residential_assets_value', 'commercial_assets_value',\n",
       "       'luxury_assets_value', 'bank_asset_value', 'loan_status'],\n",
       "      dtype='object')"
      ]
     },
     "execution_count": 105,
     "metadata": {},
     "output_type": "execute_result"
    }
   ],
   "source": [
    "df.columns"
   ]
  },
  {
   "cell_type": "code",
   "execution_count": 106,
   "id": "bd138a8b-fa4a-4fea-a258-d7973b09b2ae",
   "metadata": {},
   "outputs": [
    {
     "data": {
      "text/plain": [
       "no_of_dependents\n",
       "4    752\n",
       "3    727\n",
       "0    712\n",
       "2    708\n",
       "1    697\n",
       "5    673\n",
       "Name: count, dtype: int64"
      ]
     },
     "execution_count": 106,
     "metadata": {},
     "output_type": "execute_result"
    }
   ],
   "source": [
    "df['no_of_dependents'].value_counts()"
   ]
  },
  {
   "cell_type": "code",
   "execution_count": null,
   "id": "c56b0745-23be-4301-9c35-0d791a64028e",
   "metadata": {},
   "outputs": [],
   "source": []
  },
  {
   "cell_type": "code",
   "execution_count": 107,
   "id": "22e67b83-2787-4980-adf5-be534fbb121c",
   "metadata": {},
   "outputs": [
    {
     "data": {
      "image/png": "[encoded data removed]",
      "text/plain": [
       "<Figure size 1200x800 with 2 Axes>"
      ]
     },
     "metadata": {},
     "output_type": "display_data"
    }
   ],
   "source": [
    "corr_matrix = df.corr(numeric_only=True)\n",
    "\n",
    "plt.figure(figsize=(12,8)) \n",
    "sns.heatmap(corr_matrix, annot=True, cmap='coolwarm', linewidths=0.5)\n",
    "\n",
    "plt.title('Correlation Heatmap')\n",
    "plt.show()\n"
   ]
  },
  {
   "cell_type": "code",
   "execution_count": 108,
   "id": "85d999a7-75e9-4a78-bce0-5d8e71e72f1c",
   "metadata": {},
   "outputs": [],
   "source": [
    "df['income_annual_lakh']=(df['income_annum']/100000).round(3)"
   ]
  },
  {
   "cell_type": "code",
   "execution_count": 110,
   "id": "50f37919-ecad-4a41-a97a-8087c321fe2d",
   "metadata": {},
   "outputs": [
    {
     "data": {
      "text/plain": [
       "Index(['loan_id', 'no_of_dependents', 'education', 'self_employed',\n",
       "       'income_annum', 'loan_amount', 'loan_term', 'cibil_score',\n",
       "       'residential_assets_value', 'commercial_assets_value',\n",
       "       'luxury_assets_value', 'bank_asset_value', 'loan_status',\n",
       "       'income_annual_lakh'],\n",
       "      dtype='object')"
      ]
     },
     "execution_count": 110,
     "metadata": {},
     "output_type": "execute_result"
    }
   ],
   "source": [
    "df.columns"
   ]
  },
  {
   "cell_type": "code",
   "execution_count": 111,
   "id": "14dcdaf0-d3fe-4aea-91ef-a0348621e48a",
   "metadata": {},
   "outputs": [],
   "source": [
    "from scipy.stats import ttest_ind\n",
    "from scipy.stats import chi2_contingency"
   ]
  },
  {
   "cell_type": "code",
   "execution_count": 112,
   "id": "23aa6227-0cd6-4e5f-aa02-77aac7c5d7f2",
   "metadata": {},
   "outputs": [
    {
     "name": "stdout",
     "output_type": "stream",
     "text": [
      "Contingency Table:\n",
      "loan_status   Approved  Rejected\n",
      "education                       \n",
      "Graduate          1339       805\n",
      "Not Graduate      1317       808\n",
      "\n",
      "Chi2 Statistic: 0.08395754138250573\n",
      "p-value: 0.7720042291016309\n",
      "Degrees of Freedom: 1\n",
      "Expected Frequencies Table:\n",
      "[[1333.91051769  810.08948231]\n",
      " [1322.08948231  802.91051769]]\n",
      "\n",
      "Conclusion: Fail to Reject Null Hypothesis → NO significant relationship between Employment Status and Loan Approval.\n"
     ]
    }
   ],
   "source": [
    "contingency_table = pd.crosstab(df['education'], df['loan_status'])\n",
    "\n",
    "print(\"Contingency Table:\")\n",
    "print(contingency_table)\n",
    "\n",
    "# 🧠 Step 2: Apply Chi-Square Test\n",
    "chi2, p_value, dof, expected = chi2_contingency(contingency_table)\n",
    "\n",
    "# 🚀 Step 3: Show Results\n",
    "print(f\"\\nChi2 Statistic: {chi2}\")\n",
    "print(f\"p-value: {p_value}\")\n",
    "print(f\"Degrees of Freedom: {dof}\")\n",
    "print(f\"Expected Frequencies Table:\\n{expected}\")\n",
    "\n",
    "# 🎯 Step 4: Interpretation\n",
    "alpha = 0.05  # 95% confidence\n",
    "if p_value < alpha:\n",
    "    print(\"\\nConclusion: Reject Null Hypothesis → There IS a relationship between Employment Status and Loan Approval!\")\n",
    "else:\n",
    "    print(\"\\nConclusion: Fail to Reject Null Hypothesis → NO significant relationship between Employment Status and Loan Approval.\")"
   ]
  },
  {
   "cell_type": "code",
   "execution_count": 113,
   "id": "a26e82d8-bcb7-4c29-8643-c91865135d89",
   "metadata": {},
   "outputs": [],
   "source": [
    "def t_test(col,target,df):\n",
    "    approved = df[df[target] == ' Approved'][col]\n",
    "    not_approved = df[df[target] == ' Rejected'][col]\n",
    "\n",
    "    # 🚀 Perform t-test\n",
    "    t_stat, p_value = ttest_ind(approved, not_approved)\n",
    "\n",
    "    print(f\"T-statistic: {t_stat}\")\n",
    "    print(f\"P-value: {p_value}\")\n",
    "\n",
    "    # 🎯 Interpretation\n",
    "    alpha = 0.05\n",
    "    if p_value < alpha:\n",
    "        print(f\"\\nConclusion: The difference in means is statistically significant. {col} matters!\")\n",
    "    else:\n",
    "        print(f\"\\nConclusion: No significant difference. {col} does NOT seem to matter much.\")"
   ]
  },
  {
   "cell_type": "code",
   "execution_count": 114,
   "id": "30703066-0267-4c51-8bd6-6c1d3e0bb76b",
   "metadata": {},
   "outputs": [
    {
     "name": "stdout",
     "output_type": "stream",
     "text": [
      "T-statistic: -1.1834695488141271\n",
      "P-value: 0.23668903607722613\n",
      "\n",
      "Conclusion: No significant difference. no_of_dependents does NOT seem to matter much.\n"
     ]
    }
   ],
   "source": [
    "t_test('no_of_dependents','loan_status',df)"
   ]
  },
  {
   "cell_type": "code",
   "execution_count": 115,
   "id": "7429a3cc-464a-49b9-95f1-af973a743309",
   "metadata": {},
   "outputs": [
    {
     "name": "stdout",
     "output_type": "stream",
     "text": [
      "T-statistic: -0.9923048094193379\n",
      "P-value: 0.32110512407182734\n",
      "\n",
      "Conclusion: No significant difference. income_annual_lakh does NOT seem to matter much.\n"
     ]
    }
   ],
   "source": [
    "t_test('income_annual_lakh','loan_status',df)"
   ]
  },
  {
   "cell_type": "code",
   "execution_count": 116,
   "id": "6c1c656c-acc1-4dfd-b950-02ac306ea521",
   "metadata": {},
   "outputs": [],
   "source": [
    "df['income_annual_lakh'] = np.log1p(df['income_annual_lakh'])  # log1p handles 0s safely"
   ]
  },
  {
   "cell_type": "code",
   "execution_count": 117,
   "id": "8fb79a82-65c7-43fc-8af0-b59e9241daa9",
   "metadata": {},
   "outputs": [
    {
     "data": {
      "text/plain": [
       "ShapiroResult(statistic=np.float64(0.9564434735398394), pvalue=np.float64(6.163744099524268e-34))"
      ]
     },
     "execution_count": 117,
     "metadata": {},
     "output_type": "execute_result"
    }
   ],
   "source": [
    "import scipy.stats as stats\n",
    "stats.shapiro(df['income_annum'])  # If p < 0.05, not normal\n"
   ]
  },
  {
   "cell_type": "code",
   "execution_count": 118,
   "id": "ea3ab9b4-f054-437f-8913-9fbb8148afcf",
   "metadata": {},
   "outputs": [
    {
     "name": "stdout",
     "output_type": "stream",
     "text": [
      "U-Statistic: 2103655.0, P-Value: 0.3252248943980307\n"
     ]
    }
   ],
   "source": [
    "from scipy.stats import mannwhitneyu\n",
    "\n",
    "approved = df[df['loan_status'] == ' Approved']['income_annual_lakh']\n",
    "rejected = df[df['loan_status'] == ' Rejected']['income_annual_lakh']\n",
    "\n",
    "stat, p = mannwhitneyu(approved, rejected)\n",
    "print(f\"U-Statistic: {stat}, P-Value: {p}\")"
   ]
  },
  {
   "cell_type": "code",
   "execution_count": 119,
   "id": "86b65f42-1e17-468a-b900-e6f53d2117e4",
   "metadata": {},
   "outputs": [
    {
     "name": "stdout",
     "output_type": "stream",
     "text": [
      "T-statistic: -1.4043344533344995\n",
      "P-value: 0.16029206184807476\n",
      "\n",
      "Conclusion: No significant difference. income_annual_lakh does NOT seem to matter much.\n"
     ]
    }
   ],
   "source": [
    "t_test('income_annual_lakh','loan_status',df)"
   ]
  },
  {
   "cell_type": "code",
   "execution_count": 120,
   "id": "1a18093a-0af0-4f38-978a-c0436c51c25e",
   "metadata": {},
   "outputs": [
    {
     "name": "stdout",
     "output_type": "stream",
     "text": [
      "T-statistic: -1.1834695488141271\n",
      "P-value: 0.23668903607722613\n",
      "\n",
      "Conclusion: No significant difference. no_of_dependents does NOT seem to matter much.\n"
     ]
    }
   ],
   "source": [
    "t_test('no_of_dependents','loan_status',df)"
   ]
  },
  {
   "cell_type": "code",
   "execution_count": 121,
   "id": "538703b0-1658-4508-80fd-0a2b7bc4fb1d",
   "metadata": {},
   "outputs": [
    {
     "name": "stdout",
     "output_type": "stream",
     "text": [
      "T-statistic: 1.0550717394082854\n",
      "P-value: 0.29145225045092293\n",
      "\n",
      "Conclusion: No significant difference. loan_amount does NOT seem to matter much.\n"
     ]
    }
   ],
   "source": [
    "t_test('loan_amount','loan_status',df)"
   ]
  },
  {
   "cell_type": "code",
   "execution_count": 122,
   "id": "3698a5d9-7607-428b-bb43-d8866623d5c4",
   "metadata": {},
   "outputs": [
    {
     "name": "stdout",
     "output_type": "stream",
     "text": [
      "T-statistic: -7.431383314524249\n",
      "P-value: 1.2911854638274257e-13\n",
      "\n",
      "Conclusion: The difference in means is statistically significant. loan_term matters!\n"
     ]
    }
   ],
   "source": [
    "t_test('loan_term','loan_status',df)"
   ]
  },
  {
   "cell_type": "code",
   "execution_count": 123,
   "id": "57be4eff-3fc2-4a15-8dd1-0106ca8d2ec4",
   "metadata": {},
   "outputs": [
    {
     "name": "stdout",
     "output_type": "stream",
     "text": [
      "T-statistic: 78.96236186015597\n",
      "P-value: 0.0\n",
      "\n",
      "Conclusion: The difference in means is statistically significant. cibil_score matters!\n"
     ]
    }
   ],
   "source": [
    "t_test('cibil_score','loan_status',df)"
   ]
  },
  {
   "cell_type": "code",
   "execution_count": 124,
   "id": "d67fd73d-5571-4646-b189-cdb7af782a99",
   "metadata": {},
   "outputs": [
    {
     "name": "stdout",
     "output_type": "stream",
     "text": [
      "T-statistic: -0.9385503179308543\n",
      "P-value: 0.34801479256318013\n",
      "\n",
      "Conclusion: No significant difference. residential_assets_value does NOT seem to matter much.\n"
     ]
    }
   ],
   "source": [
    "t_test('residential_assets_value','loan_status',df)"
   ]
  },
  {
   "cell_type": "code",
   "execution_count": 125,
   "id": "5ba5b99a-df81-4270-96ac-cc0935f94c59",
   "metadata": {},
   "outputs": [
    {
     "name": "stdout",
     "output_type": "stream",
     "text": [
      "T-statistic: 0.5386572129716206\n",
      "P-value: 0.5901515011092731\n",
      "\n",
      "Conclusion: No significant difference. commercial_assets_value does NOT seem to matter much.\n"
     ]
    }
   ],
   "source": [
    "t_test('commercial_assets_value','loan_status',df)"
   ]
  },
  {
   "cell_type": "code",
   "execution_count": 126,
   "id": "9bd7c789-e673-41c0-928e-0eb9dec1d031",
   "metadata": {},
   "outputs": [
    {
     "name": "stdout",
     "output_type": "stream",
     "text": [
      "T-statistic: -1.0103109823325898\n",
      "P-value: 0.31240360685550905\n",
      "\n",
      "Conclusion: No significant difference. luxury_assets_value does NOT seem to matter much.\n"
     ]
    }
   ],
   "source": [
    "t_test('luxury_assets_value','loan_status',df)"
   ]
  },
  {
   "cell_type": "code",
   "execution_count": 127,
   "id": "aed047d3-5c12-4f73-814d-3c7bdb8ce2f1",
   "metadata": {},
   "outputs": [
    {
     "name": "stdout",
     "output_type": "stream",
     "text": [
      "T-statistic: -0.4427933015681088\n",
      "P-value: 0.6579376940182001\n",
      "\n",
      "Conclusion: No significant difference. bank_asset_value does NOT seem to matter much.\n"
     ]
    }
   ],
   "source": [
    "t_test('bank_asset_value','loan_status',df)"
   ]
  },
  {
   "cell_type": "code",
   "execution_count": 128,
   "id": "ae8875e4-ca5e-424f-93ce-ea9259e48019",
   "metadata": {},
   "outputs": [
    {
     "name": "stdout",
     "output_type": "stream",
     "text": [
      "<class 'pandas.core.frame.DataFrame'>\n",
      "RangeIndex: 4269 entries, 0 to 4268\n",
      "Data columns (total 14 columns):\n",
      " #   Column                    Non-Null Count  Dtype  \n",
      "---  ------                    --------------  -----  \n",
      " 0   loan_id                   4269 non-null   int64  \n",
      " 1   no_of_dependents          4269 non-null   int64  \n",
      " 2   education                 4269 non-null   object \n",
      " 3   self_employed             4269 non-null   object \n",
      " 4   income_annum              4269 non-null   int64  \n",
      " 5   loan_amount               4269 non-null   int64  \n",
      " 6   loan_term                 4269 non-null   int64  \n",
      " 7   cibil_score               4269 non-null   int64  \n",
      " 8   residential_assets_value  4269 non-null   int64  \n",
      " 9   commercial_assets_value   4269 non-null   int64  \n",
      " 10  luxury_assets_value       4269 non-null   int64  \n",
      " 11  bank_asset_value          4269 non-null   int64  \n",
      " 12  loan_status               4269 non-null   object \n",
      " 13  income_annual_lakh        4269 non-null   float64\n",
      "dtypes: float64(1), int64(10), object(3)\n",
      "memory usage: 467.0+ KB\n"
     ]
    }
   ],
   "source": [
    "df.info()"
   ]
  },
  {
   "cell_type": "code",
   "execution_count": 129,
   "id": "73deab62-babb-4b4b-8588-32b2e61ec9e4",
   "metadata": {},
   "outputs": [],
   "source": [
    "def column_transfor(col1,col2,col3,col4,df):\n",
    "    df['total_assets_lakh']=df[col1]+df[col2]+df[col3]+df[col4]\n",
    "    df['total_assets_lakh']=(df['total_assets_lakh']/100000).round(3)"
   ]
  },
  {
   "cell_type": "code",
   "execution_count": 130,
   "id": "6add7d7f-ac7e-4771-96de-9e7a75822ebe",
   "metadata": {},
   "outputs": [],
   "source": [
    "column_transfor('residential_assets_value','commercial_assets_value','luxury_assets_value','bank_asset_value',df)"
   ]
  },
  {
   "cell_type": "code",
   "execution_count": 131,
   "id": "4cacb5fb-87af-4600-ad91-8668a75ec66c",
   "metadata": {},
   "outputs": [
    {
     "data": {
      "text/plain": [
       "count    4269.000000\n",
       "mean      325.487702\n",
       "std       195.065629\n",
       "min         4.000000\n",
       "25%       163.000000\n",
       "50%       315.000000\n",
       "75%       472.000000\n",
       "max       907.000000\n",
       "Name: total_assets_lakh, dtype: float64"
      ]
     },
     "execution_count": 131,
     "metadata": {},
     "output_type": "execute_result"
    }
   ],
   "source": [
    "df.total_assets_lakh.describe()"
   ]
  },
  {
   "cell_type": "code",
   "execution_count": 132,
   "id": "bc815051-01cf-4df3-888b-5f1863fc894c",
   "metadata": {},
   "outputs": [
    {
     "name": "stdout",
     "output_type": "stream",
     "text": [
      "T-statistic: -0.7369753927894581\n",
      "P-value: 0.46117783229262643\n",
      "\n",
      "Conclusion: No significant difference. total_assets_lakh does NOT seem to matter much.\n"
     ]
    }
   ],
   "source": [
    "t_test('total_assets_lakh','loan_status',df)"
   ]
  },
  {
   "cell_type": "code",
   "execution_count": 133,
   "id": "3e215a2b-263b-43a1-a68a-6488c18d4a3c",
   "metadata": {},
   "outputs": [],
   "source": [
    "# df['income_annual_lakh']=(df['income_annum']/100000).round(3)"
   ]
  },
  {
   "cell_type": "code",
   "execution_count": 134,
   "id": "8b523422-2704-421e-a47b-b7c13376113f",
   "metadata": {},
   "outputs": [],
   "source": [
    "df['loan_amount_lakh']=(df['loan_amount']/100000).round(3)"
   ]
  },
  {
   "cell_type": "code",
   "execution_count": 135,
   "id": "07fad7af-e95e-417a-9559-77bdfe7579f9",
   "metadata": {},
   "outputs": [],
   "source": [
    "df=df.drop(['loan_id','income_annum','loan_amount','luxury_assets_value','commercial_assets_value','bank_asset_value','residential_assets_value'],axis=1)"
   ]
  },
  {
   "cell_type": "code",
   "execution_count": 136,
   "id": "b2b4be5f-5156-4388-9a28-babf2fa0959f",
   "metadata": {},
   "outputs": [
    {
     "data": {
      "text/plain": [
       "Index(['no_of_dependents', 'education', 'self_employed', 'loan_term',\n",
       "       'cibil_score', 'loan_status', 'income_annual_lakh', 'total_assets_lakh',\n",
       "       'loan_amount_lakh'],\n",
       "      dtype='object')"
      ]
     },
     "execution_count": 136,
     "metadata": {},
     "output_type": "execute_result"
    }
   ],
   "source": [
    "df.columns"
   ]
  },
  {
   "cell_type": "code",
   "execution_count": 137,
   "id": "38d17969-a16b-4ba7-9ee5-7b70474a5047",
   "metadata": {},
   "outputs": [
    {
     "name": "stdout",
     "output_type": "stream",
     "text": [
      "no_of_dependents     -0.017964\n",
      "loan_term             0.036346\n",
      "cibil_score          -0.009036\n",
      "income_annual_lakh   -1.219795\n",
      "total_assets_lakh     0.297137\n",
      "loan_amount_lakh      0.308615\n",
      "dtype: float64\n",
      "Highly skewed columns:\n",
      " income_annual_lakh   -1.219795\n",
      "dtype: float64\n"
     ]
    }
   ],
   "source": [
    "\n",
    "from scipy.stats import skew\n",
    "skewness = df.select_dtypes(include=['float64', 'int64']).apply(skew)\n",
    "\n",
    "print(skewness)\n",
    "\n",
    "# Optionally: See which ones are highly skewed\n",
    "high_skew = skewness[abs(skewness) > 0.5]\n",
    "print(\"Highly skewed columns:\\n\", high_skew)\n"
   ]
  },
  {
   "cell_type": "code",
   "execution_count": 138,
   "id": "9845b492-8f13-4a4a-84fc-b3e9bb38669f",
   "metadata": {},
   "outputs": [
    {
     "data": {
      "text/html": [
       "<div>\n",
       "<style scoped>\n",
       "    .dataframe tbody tr th:only-of-type {\n",
       "        vertical-align: middle;\n",
       "    }\n",
       "\n",
       "    .dataframe tbody tr th {\n",
       "        vertical-align: top;\n",
       "    }\n",
       "\n",
       "    .dataframe thead th {\n",
       "        text-align: right;\n",
       "    }\n",
       "</style>\n",
       "<table border=\"1\" class=\"dataframe\">\n",
       "  <thead>\n",
       "    <tr style=\"text-align: right;\">\n",
       "      <th></th>\n",
       "      <th>no_of_dependents</th>\n",
       "      <th>education</th>\n",
       "      <th>self_employed</th>\n",
       "      <th>loan_term</th>\n",
       "      <th>cibil_score</th>\n",
       "      <th>loan_status</th>\n",
       "      <th>income_annual_lakh</th>\n",
       "      <th>total_assets_lakh</th>\n",
       "      <th>loan_amount_lakh</th>\n",
       "    </tr>\n",
       "  </thead>\n",
       "  <tbody>\n",
       "    <tr>\n",
       "      <th>660</th>\n",
       "      <td>3</td>\n",
       "      <td>Not Graduate</td>\n",
       "      <td>No</td>\n",
       "      <td>6</td>\n",
       "      <td>710</td>\n",
       "      <td>Approved</td>\n",
       "      <td>2.833213</td>\n",
       "      <td>115.0</td>\n",
       "      <td>56.0</td>\n",
       "    </tr>\n",
       "    <tr>\n",
       "      <th>3537</th>\n",
       "      <td>2</td>\n",
       "      <td>Graduate</td>\n",
       "      <td>Yes</td>\n",
       "      <td>16</td>\n",
       "      <td>636</td>\n",
       "      <td>Approved</td>\n",
       "      <td>4.430817</td>\n",
       "      <td>506.0</td>\n",
       "      <td>301.0</td>\n",
       "    </tr>\n",
       "    <tr>\n",
       "      <th>2670</th>\n",
       "      <td>5</td>\n",
       "      <td>Graduate</td>\n",
       "      <td>Yes</td>\n",
       "      <td>10</td>\n",
       "      <td>877</td>\n",
       "      <td>Approved</td>\n",
       "      <td>1.945910</td>\n",
       "      <td>45.0</td>\n",
       "      <td>14.0</td>\n",
       "    </tr>\n",
       "    <tr>\n",
       "      <th>1645</th>\n",
       "      <td>0</td>\n",
       "      <td>Not Graduate</td>\n",
       "      <td>No</td>\n",
       "      <td>10</td>\n",
       "      <td>695</td>\n",
       "      <td>Approved</td>\n",
       "      <td>4.143135</td>\n",
       "      <td>320.0</td>\n",
       "      <td>129.0</td>\n",
       "    </tr>\n",
       "    <tr>\n",
       "      <th>416</th>\n",
       "      <td>0</td>\n",
       "      <td>Graduate</td>\n",
       "      <td>Yes</td>\n",
       "      <td>12</td>\n",
       "      <td>478</td>\n",
       "      <td>Rejected</td>\n",
       "      <td>4.127134</td>\n",
       "      <td>287.0</td>\n",
       "      <td>233.0</td>\n",
       "    </tr>\n",
       "  </tbody>\n",
       "</table>\n",
       "</div>"
      ],
      "text/plain": [
       "      no_of_dependents      education self_employed  loan_term  cibil_score  \\\n",
       "660                  3   Not Graduate            No          6          710   \n",
       "3537                 2       Graduate           Yes         16          636   \n",
       "2670                 5       Graduate           Yes         10          877   \n",
       "1645                 0   Not Graduate            No         10          695   \n",
       "416                  0       Graduate           Yes         12          478   \n",
       "\n",
       "     loan_status  income_annual_lakh  total_assets_lakh  loan_amount_lakh  \n",
       "660     Approved            2.833213              115.0              56.0  \n",
       "3537    Approved            4.430817              506.0             301.0  \n",
       "2670    Approved            1.945910               45.0              14.0  \n",
       "1645    Approved            4.143135              320.0             129.0  \n",
       "416     Rejected            4.127134              287.0             233.0  "
      ]
     },
     "execution_count": 138,
     "metadata": {},
     "output_type": "execute_result"
    }
   ],
   "source": [
    "df.sample(5)"
   ]
  },
  {
   "cell_type": "code",
   "execution_count": 139,
   "id": "f3505c81-32fb-4a0e-a6d6-9af768794862",
   "metadata": {},
   "outputs": [],
   "source": [
    "def encoder(text):\n",
    "    if text.strip()=='Approved':\n",
    "        return 1\n",
    "    else:\n",
    "        return 0"
   ]
  },
  {
   "cell_type": "code",
   "execution_count": 140,
   "id": "fd71df8b-f523-49f8-9347-386d403436dd",
   "metadata": {},
   "outputs": [],
   "source": [
    "df['loan_status']=df['loan_status'].apply(encoder)"
   ]
  },
  {
   "cell_type": "code",
   "execution_count": 141,
   "id": "817d9f02-8bd1-4fd0-a797-e6542b7fdc00",
   "metadata": {},
   "outputs": [
    {
     "data": {
      "text/plain": [
       "np.int64(0)"
      ]
     },
     "execution_count": 141,
     "metadata": {},
     "output_type": "execute_result"
    }
   ],
   "source": [
    "df['loan_status'].iloc[754]"
   ]
  },
  {
   "cell_type": "code",
   "execution_count": 142,
   "id": "ac52052f-97e0-4a44-b500-33276dbe578d",
   "metadata": {},
   "outputs": [
    {
     "data": {
      "text/plain": [
       "np.int64(1)"
      ]
     },
     "execution_count": 142,
     "metadata": {},
     "output_type": "execute_result"
    }
   ],
   "source": [
    "df['loan_status'].iloc[3072]"
   ]
  },
  {
   "cell_type": "code",
   "execution_count": 143,
   "id": "35176ecd-359f-4d49-84ae-b380126a3d7e",
   "metadata": {},
   "outputs": [],
   "source": [
    "def encoder1(text):\n",
    "    if text.strip()=='Graduate':\n",
    "        return 1\n",
    "    else:\n",
    "        return 0"
   ]
  },
  {
   "cell_type": "code",
   "execution_count": 144,
   "id": "7b662674-ac72-4fcb-9e7c-2b3b8d91b620",
   "metadata": {},
   "outputs": [],
   "source": [
    "df['education']=df['education'].apply(encoder1)"
   ]
  },
  {
   "cell_type": "code",
   "execution_count": 145,
   "id": "3041eaf1-0147-4a1a-8ffd-51a475aea713",
   "metadata": {},
   "outputs": [
    {
     "data": {
      "text/plain": [
       "np.int64(0)"
      ]
     },
     "execution_count": 145,
     "metadata": {},
     "output_type": "execute_result"
    }
   ],
   "source": [
    "df['education'].iloc[754]"
   ]
  },
  {
   "cell_type": "code",
   "execution_count": 146,
   "id": "91968e73-fdc6-405a-a7de-41e3d6d8d5d5",
   "metadata": {},
   "outputs": [
    {
     "data": {
      "text/plain": [
       "np.int64(1)"
      ]
     },
     "execution_count": 146,
     "metadata": {},
     "output_type": "execute_result"
    }
   ],
   "source": [
    "df['education'].iloc[4162]"
   ]
  },
  {
   "cell_type": "code",
   "execution_count": 147,
   "id": "5459d0c9-ad5e-4821-8a72-39876662bf6c",
   "metadata": {},
   "outputs": [],
   "source": [
    "def encoder2(text):\n",
    "    if text.strip()=='Yes':\n",
    "        return 1\n",
    "    else:\n",
    "        return 0"
   ]
  },
  {
   "cell_type": "code",
   "execution_count": 148,
   "id": "f86f8088-77dc-4bd9-9776-c1940f7f8cb4",
   "metadata": {},
   "outputs": [],
   "source": [
    "df['self_employed']=df['self_employed'].apply(encoder2)"
   ]
  },
  {
   "cell_type": "code",
   "execution_count": 149,
   "id": "51246e28-7cbc-4652-b8e6-5c77dcbeff74",
   "metadata": {},
   "outputs": [
    {
     "data": {
      "text/plain": [
       "np.int64(1)"
      ]
     },
     "execution_count": 149,
     "metadata": {},
     "output_type": "execute_result"
    }
   ],
   "source": [
    "df['self_employed'].iloc[754]"
   ]
  },
  {
   "cell_type": "code",
   "execution_count": 150,
   "id": "e08f9aac-b20c-4177-869f-fd94f59def33",
   "metadata": {},
   "outputs": [
    {
     "data": {
      "text/plain": [
       "np.int64(0)"
      ]
     },
     "execution_count": 150,
     "metadata": {},
     "output_type": "execute_result"
    }
   ],
   "source": [
    "df['self_employed'].iloc[2]"
   ]
  },
  {
   "cell_type": "code",
   "execution_count": null,
   "id": "aab8a375-bbfc-45eb-b123-22fea7487e70",
   "metadata": {},
   "outputs": [],
   "source": []
  },
  {
   "cell_type": "code",
   "execution_count": null,
   "id": "a3d70439-8d3b-43ec-8b98-e9d79a4a90c5",
   "metadata": {},
   "outputs": [],
   "source": []
  },
  {
   "cell_type": "code",
   "execution_count": 151,
   "id": "52049999-d8b6-48b2-86ea-74d49d714e93",
   "metadata": {},
   "outputs": [],
   "source": [
    "from sklearn.model_selection import train_test_split"
   ]
  },
  {
   "cell_type": "code",
   "execution_count": 152,
   "id": "62cf3d66-f2a2-4f83-8a42-428d7a1772af",
   "metadata": {},
   "outputs": [],
   "source": [
    "X=df.drop('loan_status',axis=1)\n",
    "y=df['loan_status']"
   ]
  },
  {
   "cell_type": "code",
   "execution_count": 153,
   "id": "fa9fc08b-b307-46aa-a75c-e8058fd27ccd",
   "metadata": {},
   "outputs": [],
   "source": [
    "X_train,X_test,y_train,y_test=train_test_split(X,y,test_size=0.2,random_state=42)"
   ]
  },
  {
   "cell_type": "code",
   "execution_count": 154,
   "id": "88cf3e18-5b06-4460-8620-77782fd02324",
   "metadata": {},
   "outputs": [
    {
     "data": {
      "text/html": [
       "<div>\n",
       "<style scoped>\n",
       "    .dataframe tbody tr th:only-of-type {\n",
       "        vertical-align: middle;\n",
       "    }\n",
       "\n",
       "    .dataframe tbody tr th {\n",
       "        vertical-align: top;\n",
       "    }\n",
       "\n",
       "    .dataframe thead th {\n",
       "        text-align: right;\n",
       "    }\n",
       "</style>\n",
       "<table border=\"1\" class=\"dataframe\">\n",
       "  <thead>\n",
       "    <tr style=\"text-align: right;\">\n",
       "      <th></th>\n",
       "      <th>no_of_dependents</th>\n",
       "      <th>education</th>\n",
       "      <th>self_employed</th>\n",
       "      <th>loan_term</th>\n",
       "      <th>cibil_score</th>\n",
       "      <th>income_annual_lakh</th>\n",
       "      <th>total_assets_lakh</th>\n",
       "      <th>loan_amount_lakh</th>\n",
       "    </tr>\n",
       "  </thead>\n",
       "  <tbody>\n",
       "    <tr>\n",
       "      <th>3025</th>\n",
       "      <td>4</td>\n",
       "      <td>0</td>\n",
       "      <td>1</td>\n",
       "      <td>6</td>\n",
       "      <td>455</td>\n",
       "      <td>4.110874</td>\n",
       "      <td>368.0</td>\n",
       "      <td>132.0</td>\n",
       "    </tr>\n",
       "  </tbody>\n",
       "</table>\n",
       "</div>"
      ],
      "text/plain": [
       "      no_of_dependents  education  self_employed  loan_term  cibil_score  \\\n",
       "3025                 4          0              1          6          455   \n",
       "\n",
       "      income_annual_lakh  total_assets_lakh  loan_amount_lakh  \n",
       "3025            4.110874              368.0             132.0  "
      ]
     },
     "execution_count": 154,
     "metadata": {},
     "output_type": "execute_result"
    }
   ],
   "source": [
    "X_train.sample()"
   ]
  },
  {
   "cell_type": "code",
   "execution_count": 155,
   "id": "5e4a17ec-1dcc-4da5-bb36-366dddb5710e",
   "metadata": {},
   "outputs": [
    {
     "data": {
      "text/html": [
       "<div>\n",
       "<style scoped>\n",
       "    .dataframe tbody tr th:only-of-type {\n",
       "        vertical-align: middle;\n",
       "    }\n",
       "\n",
       "    .dataframe tbody tr th {\n",
       "        vertical-align: top;\n",
       "    }\n",
       "\n",
       "    .dataframe thead th {\n",
       "        text-align: right;\n",
       "    }\n",
       "</style>\n",
       "<table border=\"1\" class=\"dataframe\">\n",
       "  <thead>\n",
       "    <tr style=\"text-align: right;\">\n",
       "      <th></th>\n",
       "      <th>no_of_dependents</th>\n",
       "      <th>education</th>\n",
       "      <th>self_employed</th>\n",
       "      <th>loan_term</th>\n",
       "      <th>cibil_score</th>\n",
       "      <th>income_annual_lakh</th>\n",
       "      <th>total_assets_lakh</th>\n",
       "      <th>loan_amount_lakh</th>\n",
       "    </tr>\n",
       "  </thead>\n",
       "  <tbody>\n",
       "    <tr>\n",
       "      <th>3904</th>\n",
       "      <td>1</td>\n",
       "      <td>1</td>\n",
       "      <td>0</td>\n",
       "      <td>8</td>\n",
       "      <td>349</td>\n",
       "      <td>3.295837</td>\n",
       "      <td>197.0</td>\n",
       "      <td>72.0</td>\n",
       "    </tr>\n",
       "  </tbody>\n",
       "</table>\n",
       "</div>"
      ],
      "text/plain": [
       "      no_of_dependents  education  self_employed  loan_term  cibil_score  \\\n",
       "3904                 1          1              0          8          349   \n",
       "\n",
       "      income_annual_lakh  total_assets_lakh  loan_amount_lakh  \n",
       "3904            3.295837              197.0              72.0  "
      ]
     },
     "execution_count": 155,
     "metadata": {},
     "output_type": "execute_result"
    }
   ],
   "source": [
    "X_test.sample()"
   ]
  },
  {
   "cell_type": "code",
   "execution_count": 156,
   "id": "c69af4e9-6623-49c6-a415-e8cf9d85a1eb",
   "metadata": {},
   "outputs": [],
   "source": [
    "from sklearn.preprocessing import MinMaxScaler"
   ]
  },
  {
   "cell_type": "code",
   "execution_count": 157,
   "id": "d0e684ad-62bb-4455-8bf4-6a04a9f1db12",
   "metadata": {},
   "outputs": [],
   "source": [
    "scaler=MinMaxScaler()"
   ]
  },
  {
   "cell_type": "code",
   "execution_count": 158,
   "id": "64d359ca-4d98-4df3-95c2-ce023bb419fc",
   "metadata": {},
   "outputs": [],
   "source": [
    "original_columns = X_train.columns\n",
    "original_index = X_train.index\n",
    "\n",
    "X_train = scaler.fit_transform(X_train)\n",
    "X_train = pd.DataFrame(X_train, columns=original_columns, index=original_index)\n"
   ]
  },
  {
   "cell_type": "code",
   "execution_count": 159,
   "id": "49ddaed4-c1cc-4cee-b282-a75de8c52451",
   "metadata": {},
   "outputs": [],
   "source": [
    "original_columns1 = X_test.columns\n",
    "original_index1 = X_test.index\n",
    "\n",
    "X_test = scaler.fit_transform(X_test)\n",
    "X_test = pd.DataFrame(X_test, columns=original_columns1, index=original_index1)\n"
   ]
  },
  {
   "cell_type": "code",
   "execution_count": 160,
   "id": "cd2d333b-ee34-4015-a575-139b451361f5",
   "metadata": {},
   "outputs": [
    {
     "data": {
      "text/html": [
       "<div>\n",
       "<style scoped>\n",
       "    .dataframe tbody tr th:only-of-type {\n",
       "        vertical-align: middle;\n",
       "    }\n",
       "\n",
       "    .dataframe tbody tr th {\n",
       "        vertical-align: top;\n",
       "    }\n",
       "\n",
       "    .dataframe thead th {\n",
       "        text-align: right;\n",
       "    }\n",
       "</style>\n",
       "<table border=\"1\" class=\"dataframe\">\n",
       "  <thead>\n",
       "    <tr style=\"text-align: right;\">\n",
       "      <th></th>\n",
       "      <th>no_of_dependents</th>\n",
       "      <th>education</th>\n",
       "      <th>self_employed</th>\n",
       "      <th>loan_term</th>\n",
       "      <th>cibil_score</th>\n",
       "      <th>income_annual_lakh</th>\n",
       "      <th>total_assets_lakh</th>\n",
       "      <th>loan_amount_lakh</th>\n",
       "    </tr>\n",
       "  </thead>\n",
       "  <tbody>\n",
       "    <tr>\n",
       "      <th>4245</th>\n",
       "      <td>1.0</td>\n",
       "      <td>0.0</td>\n",
       "      <td>1.0</td>\n",
       "      <td>0.000000</td>\n",
       "      <td>0.345000</td>\n",
       "      <td>0.881503</td>\n",
       "      <td>0.378738</td>\n",
       "      <td>0.602041</td>\n",
       "    </tr>\n",
       "    <tr>\n",
       "      <th>4087</th>\n",
       "      <td>0.0</td>\n",
       "      <td>0.0</td>\n",
       "      <td>0.0</td>\n",
       "      <td>1.000000</td>\n",
       "      <td>0.643333</td>\n",
       "      <td>0.898283</td>\n",
       "      <td>0.367663</td>\n",
       "      <td>0.489796</td>\n",
       "    </tr>\n",
       "    <tr>\n",
       "      <th>3294</th>\n",
       "      <td>0.0</td>\n",
       "      <td>0.0</td>\n",
       "      <td>1.0</td>\n",
       "      <td>0.111111</td>\n",
       "      <td>0.363333</td>\n",
       "      <td>0.313302</td>\n",
       "      <td>0.046512</td>\n",
       "      <td>0.053571</td>\n",
       "    </tr>\n",
       "    <tr>\n",
       "      <th>136</th>\n",
       "      <td>0.4</td>\n",
       "      <td>0.0</td>\n",
       "      <td>0.0</td>\n",
       "      <td>0.000000</td>\n",
       "      <td>0.810000</td>\n",
       "      <td>0.784683</td>\n",
       "      <td>0.284607</td>\n",
       "      <td>0.418367</td>\n",
       "    </tr>\n",
       "    <tr>\n",
       "      <th>3981</th>\n",
       "      <td>0.0</td>\n",
       "      <td>1.0</td>\n",
       "      <td>0.0</td>\n",
       "      <td>0.222222</td>\n",
       "      <td>0.886667</td>\n",
       "      <td>0.636976</td>\n",
       "      <td>0.232558</td>\n",
       "      <td>0.183673</td>\n",
       "    </tr>\n",
       "  </tbody>\n",
       "</table>\n",
       "</div>"
      ],
      "text/plain": [
       "      no_of_dependents  education  self_employed  loan_term  cibil_score  \\\n",
       "4245               1.0        0.0            1.0   0.000000     0.345000   \n",
       "4087               0.0        0.0            0.0   1.000000     0.643333   \n",
       "3294               0.0        0.0            1.0   0.111111     0.363333   \n",
       "136                0.4        0.0            0.0   0.000000     0.810000   \n",
       "3981               0.0        1.0            0.0   0.222222     0.886667   \n",
       "\n",
       "      income_annual_lakh  total_assets_lakh  loan_amount_lakh  \n",
       "4245            0.881503           0.378738          0.602041  \n",
       "4087            0.898283           0.367663          0.489796  \n",
       "3294            0.313302           0.046512          0.053571  \n",
       "136             0.784683           0.284607          0.418367  \n",
       "3981            0.636976           0.232558          0.183673  "
      ]
     },
     "execution_count": 160,
     "metadata": {},
     "output_type": "execute_result"
    }
   ],
   "source": [
    "X_train.sample(5)"
   ]
  },
  {
   "cell_type": "code",
   "execution_count": 161,
   "id": "0d9652fd-6610-41a2-b054-9b423c1ce10b",
   "metadata": {},
   "outputs": [
    {
     "data": {
      "text/html": [
       "<div>\n",
       "<style scoped>\n",
       "    .dataframe tbody tr th:only-of-type {\n",
       "        vertical-align: middle;\n",
       "    }\n",
       "\n",
       "    .dataframe tbody tr th {\n",
       "        vertical-align: top;\n",
       "    }\n",
       "\n",
       "    .dataframe thead th {\n",
       "        text-align: right;\n",
       "    }\n",
       "</style>\n",
       "<table border=\"1\" class=\"dataframe\">\n",
       "  <thead>\n",
       "    <tr style=\"text-align: right;\">\n",
       "      <th></th>\n",
       "      <th>no_of_dependents</th>\n",
       "      <th>education</th>\n",
       "      <th>self_employed</th>\n",
       "      <th>loan_term</th>\n",
       "      <th>cibil_score</th>\n",
       "      <th>income_annual_lakh</th>\n",
       "      <th>total_assets_lakh</th>\n",
       "      <th>loan_amount_lakh</th>\n",
       "    </tr>\n",
       "  </thead>\n",
       "  <tbody>\n",
       "    <tr>\n",
       "      <th>3088</th>\n",
       "      <td>0.6</td>\n",
       "      <td>0.0</td>\n",
       "      <td>0.0</td>\n",
       "      <td>0.444444</td>\n",
       "      <td>0.265000</td>\n",
       "      <td>0.807976</td>\n",
       "      <td>0.374092</td>\n",
       "      <td>0.333333</td>\n",
       "    </tr>\n",
       "    <tr>\n",
       "      <th>4169</th>\n",
       "      <td>0.8</td>\n",
       "      <td>0.0</td>\n",
       "      <td>1.0</td>\n",
       "      <td>0.666667</td>\n",
       "      <td>0.891667</td>\n",
       "      <td>0.458979</td>\n",
       "      <td>0.104116</td>\n",
       "      <td>0.079365</td>\n",
       "    </tr>\n",
       "    <tr>\n",
       "      <th>1973</th>\n",
       "      <td>0.6</td>\n",
       "      <td>1.0</td>\n",
       "      <td>0.0</td>\n",
       "      <td>0.888889</td>\n",
       "      <td>0.746667</td>\n",
       "      <td>0.778550</td>\n",
       "      <td>0.443099</td>\n",
       "      <td>0.436508</td>\n",
       "    </tr>\n",
       "    <tr>\n",
       "      <th>1268</th>\n",
       "      <td>0.6</td>\n",
       "      <td>1.0</td>\n",
       "      <td>1.0</td>\n",
       "      <td>0.000000</td>\n",
       "      <td>0.343333</td>\n",
       "      <td>0.580878</td>\n",
       "      <td>0.134383</td>\n",
       "      <td>0.129630</td>\n",
       "    </tr>\n",
       "    <tr>\n",
       "      <th>805</th>\n",
       "      <td>0.4</td>\n",
       "      <td>1.0</td>\n",
       "      <td>0.0</td>\n",
       "      <td>0.222222</td>\n",
       "      <td>0.648333</td>\n",
       "      <td>0.953653</td>\n",
       "      <td>0.462470</td>\n",
       "      <td>0.600529</td>\n",
       "    </tr>\n",
       "  </tbody>\n",
       "</table>\n",
       "</div>"
      ],
      "text/plain": [
       "      no_of_dependents  education  self_employed  loan_term  cibil_score  \\\n",
       "3088               0.6        0.0            0.0   0.444444     0.265000   \n",
       "4169               0.8        0.0            1.0   0.666667     0.891667   \n",
       "1973               0.6        1.0            0.0   0.888889     0.746667   \n",
       "1268               0.6        1.0            1.0   0.000000     0.343333   \n",
       "805                0.4        1.0            0.0   0.222222     0.648333   \n",
       "\n",
       "      income_annual_lakh  total_assets_lakh  loan_amount_lakh  \n",
       "3088            0.807976           0.374092          0.333333  \n",
       "4169            0.458979           0.104116          0.079365  \n",
       "1973            0.778550           0.443099          0.436508  \n",
       "1268            0.580878           0.134383          0.129630  \n",
       "805             0.953653           0.462470          0.600529  "
      ]
     },
     "execution_count": 161,
     "metadata": {},
     "output_type": "execute_result"
    }
   ],
   "source": [
    "X_test.sample(5)"
   ]
  },
  {
   "cell_type": "code",
   "execution_count": 162,
   "id": "f77ee9c8-4f98-4f11-9574-f6e7766d0efd",
   "metadata": {},
   "outputs": [],
   "source": [
    "from statsmodels.stats.outliers_influence import variance_inflation_factor\n",
    "from statsmodels.tools.tools import add_constant"
   ]
  },
  {
   "cell_type": "code",
   "execution_count": 163,
   "id": "91bf5bb4-424d-4f4f-a6bb-3c92591cef22",
   "metadata": {},
   "outputs": [],
   "source": [
    "x=add_constant(df[original_columns])"
   ]
  },
  {
   "cell_type": "code",
   "execution_count": 164,
   "id": "8bc46511-e6bc-4710-9154-64601d2ea9af",
   "metadata": {},
   "outputs": [],
   "source": [
    "vif=pd.DataFrame()"
   ]
  },
  {
   "cell_type": "code",
   "execution_count": 165,
   "id": "9ddf2b5f-d7eb-476d-9271-4f38937c5dc3",
   "metadata": {},
   "outputs": [],
   "source": [
    "vif['features']=x.columns"
   ]
  },
  {
   "cell_type": "code",
   "execution_count": 166,
   "id": "c9398b30-fcde-460e-b4dd-b2f955b0b043",
   "metadata": {},
   "outputs": [],
   "source": [
    "vif['VIF']=[variance_inflation_factor(x.values,i) for i in range(x.shape[1])]"
   ]
  },
  {
   "cell_type": "code",
   "execution_count": 168,
   "id": "01e3e660-f384-41e8-a505-265257aed703",
   "metadata": {},
   "outputs": [
    {
     "data": {
      "text/html": [
       "<div>\n",
       "<style scoped>\n",
       "    .dataframe tbody tr th:only-of-type {\n",
       "        vertical-align: middle;\n",
       "    }\n",
       "\n",
       "    .dataframe tbody tr th {\n",
       "        vertical-align: top;\n",
       "    }\n",
       "\n",
       "    .dataframe thead th {\n",
       "        text-align: right;\n",
       "    }\n",
       "</style>\n",
       "<table border=\"1\" class=\"dataframe\">\n",
       "  <thead>\n",
       "    <tr style=\"text-align: right;\">\n",
       "      <th></th>\n",
       "      <th>features</th>\n",
       "      <th>VIF</th>\n",
       "    </tr>\n",
       "  </thead>\n",
       "  <tbody>\n",
       "    <tr>\n",
       "      <th>0</th>\n",
       "      <td>const</td>\n",
       "      <td>71.935362</td>\n",
       "    </tr>\n",
       "    <tr>\n",
       "      <th>1</th>\n",
       "      <td>no_of_dependents</td>\n",
       "      <td>1.000884</td>\n",
       "    </tr>\n",
       "    <tr>\n",
       "      <th>2</th>\n",
       "      <td>education</td>\n",
       "      <td>1.000781</td>\n",
       "    </tr>\n",
       "    <tr>\n",
       "      <th>3</th>\n",
       "      <td>self_employed</td>\n",
       "      <td>1.000747</td>\n",
       "    </tr>\n",
       "    <tr>\n",
       "      <th>4</th>\n",
       "      <td>loan_term</td>\n",
       "      <td>1.000824</td>\n",
       "    </tr>\n",
       "    <tr>\n",
       "      <th>5</th>\n",
       "      <td>cibil_score</td>\n",
       "      <td>1.001269</td>\n",
       "    </tr>\n",
       "    <tr>\n",
       "      <th>6</th>\n",
       "      <td>income_annual_lakh</td>\n",
       "      <td>4.864757</td>\n",
       "    </tr>\n",
       "    <tr>\n",
       "      <th>7</th>\n",
       "      <td>total_assets_lakh</td>\n",
       "      <td>5.108698</td>\n",
       "    </tr>\n",
       "    <tr>\n",
       "      <th>8</th>\n",
       "      <td>loan_amount_lakh</td>\n",
       "      <td>5.022231</td>\n",
       "    </tr>\n",
       "  </tbody>\n",
       "</table>\n",
       "</div>"
      ],
      "text/plain": [
       "             features        VIF\n",
       "0               const  71.935362\n",
       "1    no_of_dependents   1.000884\n",
       "2           education   1.000781\n",
       "3       self_employed   1.000747\n",
       "4           loan_term   1.000824\n",
       "5         cibil_score   1.001269\n",
       "6  income_annual_lakh   4.864757\n",
       "7   total_assets_lakh   5.108698\n",
       "8    loan_amount_lakh   5.022231"
      ]
     },
     "execution_count": 168,
     "metadata": {},
     "output_type": "execute_result"
    }
   ],
   "source": [
    "vif"
   ]
  },
  {
   "cell_type": "code",
   "execution_count": 169,
   "id": "9e25e6e3-d2ab-4745-98d8-e897a0035977",
   "metadata": {},
   "outputs": [],
   "source": [
    "# logistic regression"
   ]
  },
  {
   "cell_type": "code",
   "execution_count": 170,
   "id": "2dbb7316-6ca6-435a-a179-9f87141b6a80",
   "metadata": {},
   "outputs": [
    {
     "name": "stdout",
     "output_type": "stream",
     "text": [
      "Dropping 'education' (p = 0.7251)\n",
      "Dropping 'no_of_dependents' (p = 0.6246)\n",
      "Dropping 'self_employed' (p = 0.2642)\n",
      "Dropping 'total_assets_lakh' (p = 0.0852)\n",
      "Optimization terminated successfully.\n",
      "         Current function value: 0.224491\n",
      "         Iterations 8\n",
      "                           Logit Regression Results                           \n",
      "==============================================================================\n",
      "Dep. Variable:            loan_status   No. Observations:                 3415\n",
      "Model:                          Logit   Df Residuals:                     3410\n",
      "Method:                           MLE   Df Model:                            4\n",
      "Date:                Wed, 30 Apr 2025   Pseudo R-squ.:                  0.6617\n",
      "Time:                        21:41:23   Log-Likelihood:                -766.64\n",
      "converged:                       True   LL-Null:                       -2266.5\n",
      "Covariance Type:            nonrobust   LLR p-value:                     0.000\n",
      "======================================================================================\n",
      "                         coef    std err          z      P>|z|      [0.025      0.975]\n",
      "--------------------------------------------------------------------------------------\n",
      "const                 -3.4478      0.316    -10.923      0.000      -4.066      -2.829\n",
      "loan_term             -2.6852      0.225    -11.958      0.000      -3.125      -2.245\n",
      "cibil_score           14.5408      0.542     26.809      0.000      13.478      15.604\n",
      "income_annual_lakh    -2.4258      0.562     -4.319      0.000      -3.527      -1.325\n",
      "loan_amount_lakh       2.7717      0.560      4.946      0.000       1.673       3.870\n",
      "======================================================================================\n",
      "Selected Features (Logistic): ['const', 'loan_term', 'cibil_score', 'income_annual_lakh', 'loan_amount_lakh']\n"
     ]
    }
   ],
   "source": [
    "import statsmodels.api as sm\n",
    "\n",
    "# Add constant\n",
    "X_const = sm.add_constant(X_train)\n",
    "cols = list(X_const.columns)\n",
    "\n",
    "while True:\n",
    "    model = sm.Logit(y_train, X_const[cols]).fit(disp=False)\n",
    "    p_vals = model.pvalues\n",
    "    max_p = p_vals.max()\n",
    "\n",
    "    if max_p > 0.05:\n",
    "        feature_to_remove = p_vals.idxmax()\n",
    "        print(f\"Dropping '{feature_to_remove}' (p = {max_p:.4f})\")\n",
    "        cols.remove(feature_to_remove)\n",
    "    else:\n",
    "        break\n",
    "\n",
    "final_model = sm.Logit(y_train, X_const[cols]).fit()\n",
    "print(final_model.summary())\n",
    "print(\"Selected Features (Logistic):\", cols)\n"
   ]
  },
  {
   "cell_type": "code",
   "execution_count": 171,
   "id": "f1dab148-3d5c-4a9f-a5a8-02b58c2c7e61",
   "metadata": {},
   "outputs": [
    {
     "data": {
      "text/plain": [
       "['const', 'loan_term', 'cibil_score', 'income_annual_lakh', 'loan_amount_lakh']"
      ]
     },
     "execution_count": 171,
     "metadata": {},
     "output_type": "execute_result"
    }
   ],
   "source": [
    "cols"
   ]
  },
  {
   "cell_type": "code",
   "execution_count": 172,
   "id": "11594dc9-1893-4518-ad1c-868cfb00ca2b",
   "metadata": {},
   "outputs": [
    {
     "data": {
      "text/plain": [
       "Index(['no_of_dependents', 'education', 'self_employed', 'loan_term',\n",
       "       'cibil_score', 'income_annual_lakh', 'total_assets_lakh',\n",
       "       'loan_amount_lakh'],\n",
       "      dtype='object')"
      ]
     },
     "execution_count": 172,
     "metadata": {},
     "output_type": "execute_result"
    }
   ],
   "source": [
    "X_train.columns"
   ]
  },
  {
   "cell_type": "code",
   "execution_count": 173,
   "id": "8f6d1ad6-92f0-4183-94fa-e439aa2fdd97",
   "metadata": {},
   "outputs": [],
   "source": [
    "# logistic regression"
   ]
  },
  {
   "cell_type": "code",
   "execution_count": 174,
   "id": "bf40676b-3d91-4d91-b913-74549c97a4b9",
   "metadata": {},
   "outputs": [
    {
     "name": "stdout",
     "output_type": "stream",
     "text": [
      "Logistic Regression Accuracy (selected features only): 0.9110\n"
     ]
    }
   ],
   "source": [
    "from sklearn.linear_model import LogisticRegression\n",
    "from sklearn.metrics import accuracy_score\n",
    "# Final selected features\n",
    "selected_features = ['loan_term', 'cibil_score', 'total_assets_lakh', 'income_annual_lakh','loan_amount_lakh']\n",
    "\n",
    "X_train = X_train[selected_features]\n",
    "y_train = y_train \n",
    "\n",
    "X_test=X_test[selected_features]\n",
    "y_test=y_test\n",
    "\n",
    "# Logistic Regression model\n",
    "logreg = LogisticRegression(max_iter=1000)\n",
    "logreg.fit(X_train, y_train)\n",
    "\n",
    "# Predictions\n",
    "y_pred = logreg.predict(X_test)\n",
    "\n",
    "# Accuracy\n",
    "acc = accuracy_score(y_test, y_pred)\n",
    "print(f\"Logistic Regression Accuracy (selected features only): {acc:.4f}\")\n",
    "\n"
   ]
  },
  {
   "cell_type": "code",
   "execution_count": 175,
   "id": "a8bf3b82-a2d3-4c66-a9b7-0e4d8b545cb8",
   "metadata": {},
   "outputs": [],
   "source": [
    "# using regularization techniques elasticnet"
   ]
  },
  {
   "cell_type": "code",
   "execution_count": 176,
   "id": "0f2c9d79-7176-4653-9542-eb9a42d2636c",
   "metadata": {},
   "outputs": [
    {
     "name": "stdout",
     "output_type": "stream",
     "text": [
      "Logistic Regression Accuracy (selected features only): 0.9239\n"
     ]
    }
   ],
   "source": [
    "from sklearn.linear_model import LogisticRegressionCV\n",
    "\n",
    "logreg = LogisticRegressionCV(class_weight='balanced',penalty='elasticnet', solver='saga', l1_ratios=[0.5], max_iter=1000)\n",
    "logreg.fit(X_train, y_train)\n",
    "\n",
    "# Predictions\n",
    "y_pred = logreg.predict(X_test)\n",
    "\n",
    "# Accuracy\n",
    "acc = accuracy_score(y_test, y_pred)\n",
    "print(f\"Logistic Regression Accuracy (selected features only): {acc:.4f}\")\n",
    "# we will use this model\n"
   ]
  },
  {
   "cell_type": "code",
   "execution_count": 87,
   "id": "02488da5-a94a-44a1-b65a-b0a4a568a99f",
   "metadata": {},
   "outputs": [
    {
     "name": "stdout",
     "output_type": "stream",
     "text": [
      "Cross-validation scores: [0.92972182 0.91508053 0.94289898 0.93997072 0.9341142 ]\n",
      "Mean CV score: 0.9323572474377745\n"
     ]
    }
   ],
   "source": [
    "from sklearn.model_selection import cross_val_score\n",
    "cv_scores = cross_val_score(logreg, X_train, y_train, cv=5)\n",
    "print(f\"Cross-validation scores: {cv_scores}\")\n",
    "print(f\"Mean CV score: {cv_scores.mean()}\")\n"
   ]
  },
  {
   "cell_type": "code",
   "execution_count": null,
   "id": "6dbfabdb-c9a1-4d70-8a20-ab2ef10120ce",
   "metadata": {},
   "outputs": [],
   "source": []
  },
  {
   "cell_type": "code",
   "execution_count": null,
   "id": "a51682f3-d929-4f66-b474-efecd230d83d",
   "metadata": {},
   "outputs": [],
   "source": []
  },
  {
   "cell_type": "code",
   "execution_count": 179,
   "id": "c43ef58b-e113-407f-90e4-b5b670582641",
   "metadata": {},
   "outputs": [],
   "source": [
    "from sklearn.tree import DecisionTreeClassifier"
   ]
  },
  {
   "cell_type": "code",
   "execution_count": 183,
   "id": "cc460905-130f-4699-870c-a88104562147",
   "metadata": {},
   "outputs": [],
   "source": [
    "tree_model = DecisionTreeClassifier(\n",
    "    criterion='gini',\n",
    "    max_depth=5,               # Limit depth\n",
    "    min_samples_split=10,      # Don’t split if node has <10 samples\n",
    "    min_samples_leaf=5,        # Each leaf must have ≥5 samples\n",
    "    class_weight='balanced',\n",
    "    random_state=42\n",
    ")\n",
    "# Fit on training data\n",
    "tree_model.fit(X_train, y_train)\n",
    "\n",
    "# Predict\n",
    "y_pred = tree_model.predict(X_test)\n"
   ]
  },
  {
   "cell_type": "code",
   "execution_count": 184,
   "id": "2ab340e6-7e8a-4903-acf6-fcf9e1aa38b4",
   "metadata": {},
   "outputs": [
    {
     "name": "stdout",
     "output_type": "stream",
     "text": [
      "Decision Tree Accuracy: 0.9696\n"
     ]
    }
   ],
   "source": [
    "from sklearn.metrics import accuracy_score\n",
    "\n",
    "accuracy = accuracy_score(y_test, y_pred)\n",
    "print(f\"Decision Tree Accuracy: {accuracy:.4f}\")"
   ]
  },
  {
   "cell_type": "code",
   "execution_count": 185,
   "id": "7cd845e4-557b-4f18-9147-40e427894109",
   "metadata": {},
   "outputs": [
    {
     "name": "stdout",
     "output_type": "stream",
     "text": [
      "\n",
      "Classification Report:\n",
      "               precision    recall  f1-score   support\n",
      "\n",
      "           0       0.93      0.99      0.96       318\n",
      "           1       0.99      0.96      0.98       536\n",
      "\n",
      "    accuracy                           0.97       854\n",
      "   macro avg       0.96      0.97      0.97       854\n",
      "weighted avg       0.97      0.97      0.97       854\n",
      "\n",
      "\n",
      "Confusion Matrix:\n",
      " [[314   4]\n",
      " [ 22 514]]\n"
     ]
    }
   ],
   "source": [
    "from sklearn.metrics import classification_report, confusion_matrix\n",
    "\n",
    "print(\"\\nClassification Report:\\n\", classification_report(y_test, y_pred))\n",
    "print(\"\\nConfusion Matrix:\\n\", confusion_matrix(y_test, y_pred))\n"
   ]
  },
  {
   "cell_type": "code",
   "execution_count": 186,
   "id": "3f42f7b6-1640-4cec-b44f-f3779acfb9c5",
   "metadata": {},
   "outputs": [],
   "source": [
    "# from sklearn.tree import DecisionTreeClassifier\n",
    "# from sklearn.metrics import accuracy_score, classification_report, confusion_matrix\n",
    "\n",
    "# # Initialize the model\n",
    "# tree_model = DecisionTreeClassifier(criterion='gini', max_depth=None, class_weight='balanced', random_state=42)\n",
    "\n",
    "# # Fit on training data\n",
    "# tree_model.fit(X_train, y_train)\n",
    "\n",
    "# # Predict on test data\n",
    "# y_pred = tree_model.predict(X_test)\n",
    "\n",
    "# # Evaluate\n",
    "# acc = accuracy_score(y_test, y_pred)\n",
    "# print(f\"Decision Tree Accuracy: {acc:.4f}\")\n",
    "\n",
    "# # Optional: Detailed Report\n",
    "# print(\"\\nClassification Report:\\n\", classification_report(y_test, y_pred))\n",
    "# print(\"\\nConfusion Matrix:\\n\", confusion_matrix(y_test, y_pred))\n"
   ]
  },
  {
   "cell_type": "code",
   "execution_count": 187,
   "id": "be14fb7e-4b43-41ff-86a5-db321c9bf907",
   "metadata": {},
   "outputs": [],
   "source": [
    "import pickle\n",
    "# Saving the model to a file\n",
    "with open('logistic_regression_model.pkl', 'wb') as f:\n",
    "    pickle.dump(tree_model, f)"
   ]
  },
  {
   "cell_type": "code",
   "execution_count": 188,
   "id": "ac3147ac-b53a-4384-8ecc-dde38d8498aa",
   "metadata": {},
   "outputs": [
    {
     "data": {
      "text/plain": [
       "Index(['loan_term', 'cibil_score', 'total_assets_lakh', 'income_annual_lakh',\n",
       "       'loan_amount_lakh'],\n",
       "      dtype='object')"
      ]
     },
     "execution_count": 188,
     "metadata": {},
     "output_type": "execute_result"
    }
   ],
   "source": [
    "X_train.columns"
   ]
  },
  {
   "cell_type": "code",
   "execution_count": 189,
   "id": "1eda5073-a0b5-48d3-b48a-b038729333c7",
   "metadata": {},
   "outputs": [
    {
     "name": "stdout",
     "output_type": "stream",
     "text": [
      "Scaler dumped successfully ✅\n"
     ]
    }
   ],
   "source": [
    "from sklearn.preprocessing import MinMaxScaler\n",
    "import pickle\n",
    "\n",
    "selected_features = ['loan_term', 'cibil_score', 'total_assets_lakh', 'income_annual_lakh', 'loan_amount_lakh']\n",
    "\n",
    "# Step 1: Create and fit scaler\n",
    "scaler = MinMaxScaler()\n",
    "assert df[selected_features].isnull().sum().sum() == 0, \"Handle NaNs before scaling!\"\n",
    "scaler.fit(df[selected_features])  # Make sure df exists and has no NaNs in these columns\n",
    "\n",
    "# Step 2: Dump the scaler using pickle\n",
    "with open('scaler_model.pkl', 'wb') as f:\n",
    "    pickle.dump(scaler, f)\n",
    "\n",
    "print(\"Scaler dumped successfully ✅\")"
   ]
  },
  {
   "cell_type": "code",
   "execution_count": 190,
   "id": "589e3667-9ae2-489a-a066-b135010cdab0",
   "metadata": {},
   "outputs": [],
   "source": [
    "#  This Model is not performing well we have imbalanced data and the model is giving prioriy only to cibil score not other"
   ]
  },
  {
   "cell_type": "code",
   "execution_count": null,
   "id": "be301fff-0f18-41f5-8e91-4295ee61512a",
   "metadata": {},
   "outputs": [],
   "source": [
    "# so we need to collect other sample and than use this types of model"
   ]
  },
  {
   "cell_type": "code",
   "execution_count": null,
   "id": "94b14979-bb7f-4739-84a5-fb4adfdc7271",
   "metadata": {},
   "outputs": [],
   "source": []
  },
  {
   "cell_type": "code",
   "execution_count": null,
   "id": "69a72826-9c5f-4320-9571-b857053c9095",
   "metadata": {},
   "outputs": [],
   "source": []
  },
  {
   "cell_type": "code",
   "execution_count": null,
   "id": "522a3c89-7c23-42f7-8355-001ac3530bf9",
   "metadata": {},
   "outputs": [],
   "source": []
  },
  {
   "cell_type": "code",
   "execution_count": null,
   "id": "0333ee24-f6b3-41c5-9449-36e88880db71",
   "metadata": {},
   "outputs": [],
   "source": []
  },
  {
   "cell_type": "code",
   "execution_count": null,
   "id": "e5eb897c-31c0-4979-bacc-e326cfc84824",
   "metadata": {},
   "outputs": [],
   "source": []
  },
  {
   "cell_type": "code",
   "execution_count": null,
   "id": "81a50a9d-8905-4360-a9d8-f496e788dd06",
   "metadata": {},
   "outputs": [],
   "source": []
  },
  {
   "cell_type": "code",
   "execution_count": null,
   "id": "76755f15-c669-4086-bea4-8d2abe0befc4",
   "metadata": {},
   "outputs": [],
   "source": []
  },
  {
   "cell_type": "code",
   "execution_count": null,
   "id": "12c49be6-d886-4796-8645-2c96200df990",
   "metadata": {},
   "outputs": [],
   "source": []
  },
  {
   "cell_type": "code",
   "execution_count": null,
   "id": "02f6925a-c200-4b50-b749-2ceedd5734f7",
   "metadata": {},
   "outputs": [],
   "source": []
  },
  {
   "cell_type": "code",
   "execution_count": null,
   "id": "2fc677ba-580c-4ac7-b581-e7c5bfdf3b4b",
   "metadata": {},
   "outputs": [],
   "source": []
  },
  {
   "cell_type": "code",
   "execution_count": null,
   "id": "f5328fbb-d984-44e5-a30e-359d14d450d5",
   "metadata": {},
   "outputs": [],
   "source": []
  },
  {
   "cell_type": "code",
   "execution_count": null,
   "id": "94f7de1d-7952-4130-9c41-e57f08231a48",
   "metadata": {},
   "outputs": [],
   "source": []
  },
  {
   "cell_type": "code",
   "execution_count": null,
   "id": "b58d9f2e-6721-4831-88c5-c39bf46be92b",
   "metadata": {},
   "outputs": [],
   "source": []
  },
  {
   "cell_type": "code",
   "execution_count": null,
   "id": "1e243df5-0708-4f7f-9dda-f79282029c6f",
   "metadata": {},
   "outputs": [],
   "source": []
  },
  {
   "cell_type": "code",
   "execution_count": null,
   "id": "f311fc09-a956-46d5-a20b-298343f25d44",
   "metadata": {},
   "outputs": [],
   "source": []
  },
  {
   "cell_type": "code",
   "execution_count": null,
   "id": "64fb3e31-2478-40d5-8729-49237631d910",
   "metadata": {},
   "outputs": [],
   "source": []
  },
  {
   "cell_type": "code",
   "execution_count": null,
   "id": "292349e4-24e1-45bd-aff7-641a92233f8f",
   "metadata": {},
   "outputs": [],
   "source": []
  },
  {
   "cell_type": "code",
   "execution_count": null,
   "id": "80d62328-c712-4481-ae27-86f76e5766dc",
   "metadata": {},
   "outputs": [],
   "source": []
  },
  {
   "cell_type": "code",
   "execution_count": null,
   "id": "a41c6b4a-c4bc-4b75-b9af-ed7e1d7867b3",
   "metadata": {},
   "outputs": [],
   "source": []
  },
  {
   "cell_type": "code",
   "execution_count": null,
   "id": "556d12b4-92f1-4cd8-8d23-0c1c2bf86000",
   "metadata": {},
   "outputs": [],
   "source": []
  },
  {
   "cell_type": "code",
   "execution_count": null,
   "id": "2c8882a4-a716-4032-a8e7-71d016e8b786",
   "metadata": {},
   "outputs": [],
   "source": []
  },
  {
   "cell_type": "code",
   "execution_count": null,
   "id": "85b1d7eb-cf7a-4bc3-8500-9d996d24dbeb",
   "metadata": {},
   "outputs": [],
   "source": []
  }
 ],
 "metadata": {
  "kernelspec": {
   "display_name": "Python 3 (ipykernel)",
   "language": "python",
   "name": "python3"
  },
  "language_info": {
   "codemirror_mode": {
    "name": "ipython",
    "version": 3
   },
   "file_extension": ".py",
   "mimetype": "text/x-python",
   "name": "python",
   "nbconvert_exporter": "python",
   "pygments_lexer": "ipython3",
   "version": "3.9.21"
  }
 },
 "nbformat": 4,
 "nbformat_minor": 5
}
